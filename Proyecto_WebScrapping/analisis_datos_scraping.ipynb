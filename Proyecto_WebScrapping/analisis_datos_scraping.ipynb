{
 "cells": [
  {
   "cell_type": "markdown",
   "id": "c64c929e",
   "metadata": {},
   "source": [
    "# Análisis de datos de Webscraping\n",
    "\n",
    "Tomando de base el output.xlsx sacado con el cuaderno de scraping_login vamos a intentar hacer un análisis de datos básico.\n",
    "\n",
    "## Estructura:\n",
    "\n",
    "La estructura del fichero es la siguiente:\n",
    "\n",
    "id = id de la url e identificador del usuario\n",
    "\n",
    "username = nombre del usuario, obligatorio sino la fila no estaría\n",
    "\n",
    "profile_pic = url a la foto de perfil, si no hay será \"No photo\"\n",
    "\n",
    "create_date = fecha de primer acceso tras la creación del usuario, puede ser \"Nunca\" si no se ha accedido por primera vez o \"N/A\" si hubo error de lectura, no viene en formato estandar\n",
    "\n",
    "last_conn = fecha de ultima hora de conexión, puede ser \"Nunca\" si no se ha accedido por primera vez o \"N/A\" si hubo error de lectura, no viene en formato estandar\n",
    "\n",
    "email = direccion de correo, en caso de no haber será \"No email\"\n",
    "\n",
    "courses = array de strings de los cursos a los que está inscrito el usuario, puede ser vacío, los strings vienen con sigle comma ('ejemplo')\n",
    "\n"
   ]
  },
  {
   "cell_type": "markdown",
   "id": "1eb65a17",
   "metadata": {},
   "source": [
    "Vamos a empezar por cargar el Excel a un DataFrame"
   ]
  },
  {
   "cell_type": "code",
   "execution_count": 1,
   "id": "f718ebcd",
   "metadata": {},
   "outputs": [
    {
     "name": "stdout",
     "output_type": "stream",
     "text": [
      " id       username                                                                  profile_pic                                               create_date                                                     last_conn    email courses\n",
      "  1     Gonbidatua                                                                     No photo                                                     Nunca                                                         Nunca No email      []\n",
      "  2 Admin ICJardin                                                                     No photo       viernes, 5 de julio de 2024, 09:55  (1 año 94 días) martes, 7 de octubre de 2025, 10:12  (10 minutos 14 segundos) No email      []\n",
      "  3     Admin User https://moodle.icjardin.com/pluginfile.php/18/user/icon/boost/f1?rev=2622497 martes, 17 de noviembre de 2020, 09:45  (4 años 324 días)          jueves, 27 de junio de 2024, 19:45  (1 año 101 días) No email      []\n"
     ]
    }
   ],
   "source": [
    "from pathlib import Path\n",
    "import pandas as pd\n",
    "\n",
    "xlsx_path = Path.cwd() / \"output.xlsx\"\n",
    "\n",
    "# Leer Excel\n",
    "df = pd.read_excel(xlsx_path)\n",
    "\n",
    "# Mostrar las primeras filas\n",
    "print(df.head(3).to_string(index=False))"
   ]
  },
  {
   "cell_type": "markdown",
   "id": "5f902b08",
   "metadata": {},
   "source": [
    "Quiero ver algunas estadísticas:"
   ]
  },
  {
   "cell_type": "code",
   "execution_count": 2,
   "id": "095d67e3",
   "metadata": {},
   "outputs": [
    {
     "name": "stdout",
     "output_type": "stream",
     "text": [
      "(879, 7)\n",
      "Cantidad de gente con foto: 65, eso es el 7.39% de los usuarios\n",
      "Cantidad de gente con email: 25, eso es el 2.84% de los usuarios\n",
      "Cantidad de gente sin cursos: 17, eso es el 1.93% de los usuarios\n"
     ]
    }
   ],
   "source": [
    "# Muestra (filas, columnas) en formato tupla\n",
    "print(df.shape)\n",
    "\n",
    "# Guardamos la cantidad de filas\n",
    "total_rows = df.shape[0]\n",
    "\n",
    "# Calculamos cuanta gente tiene foto creando un subset de DataFrame\n",
    "with_photo = total_rows - df[df[\"profile_pic\"] == \"No photo\"].shape[0] # Total - gente sin foto\n",
    "print(f\"Cantidad de gente con foto: {with_photo}, eso es el {((with_photo*100)/total_rows):.2f}% de los usuarios\")\n",
    "\n",
    "# Lo mismo con emails, probamos a usar el pseudoSQL de pandas con .query y simplificamos el cálculo\n",
    "with_email = df.query(\"email != 'No email'\").shape[0]\n",
    "print(f\"Cantidad de gente con email: {with_email}, eso es el {((with_email*100)/total_rows):.2f}% de los usuarios\")\n",
    "\n",
    "# Vamos a ver el número de cuentas sin cursos\n",
    "no_courses = df.query(\"courses == '[]'\").shape[0]\n",
    "print(f\"Cantidad de gente sin cursos: {no_courses}, eso es el {((no_courses*100)/total_rows):.2f}% de los usuarios\")"
   ]
  },
  {
   "cell_type": "markdown",
   "id": "e8dec81a",
   "metadata": {},
   "source": [
    "Quiero mirar estadísticas de conexión, para eso tengo que formatear las columnas con fechas a algo legible para python:"
   ]
  },
  {
   "cell_type": "code",
   "execution_count": 3,
   "id": "e5407e79",
   "metadata": {},
   "outputs": [
    {
     "name": "stdout",
     "output_type": "stream",
     "text": [
      " id       username                                                                  profile_pic         create_date           last_conn    email courses\n",
      "  1     Gonbidatua                                                                     No photo                 NaT                 NaT No email      []\n",
      "  2 Admin ICJardin                                                                     No photo 2024-07-05 09:55:00 2025-10-07 10:12:00 No email      []\n",
      "  3     Admin User https://moodle.icjardin.com/pluginfile.php/18/user/icon/boost/f1?rev=2622497 2020-11-17 09:45:00 2024-06-27 19:45:00 No email      []\n"
     ]
    }
   ],
   "source": [
    "import re\n",
    "\n",
    "# Diccionario de meses españoles para convertir a número\n",
    "meses = {\n",
    "    \"enero\": \"01\", \"febrero\": \"02\", \"marzo\": \"03\", \"abril\": \"04\",\n",
    "    \"mayo\": \"05\", \"junio\": \"06\", \"julio\": \"07\", \"agosto\": \"08\",\n",
    "    \"septiembre\": \"09\", \"octubre\": \"10\", \"noviembre\": \"11\", \"diciembre\": \"12\"\n",
    "}\n",
    "\n",
    "# Definimos una funcion auxiliar\n",
    "def parse_fecha_hora(texto):\n",
    "    if pd.isna(texto) or texto in [\"N/A\", \"Nunca\", \"\"]: # Si no podemos determinar la fecha marcamos Not a Time para pandas\n",
    "        return pd.NaT\n",
    "    # Regex para día, mes, año, hora:minuto\n",
    "    target = re.search(r\"(\\d{1,2}) de (\\w+) de (\\d{4}), (\\d{1,2}:\\d{2})\", texto)\n",
    "    if target:\n",
    "        dia, mes_texto, año, hora_minuto = target.groups() # Pasar a diferentes variables\n",
    "        mes = meses.get(mes_texto.lower()) # Pasar el mes a minusculas por si acaso y sacar el numero de mes de nuetro diccionario\n",
    "        if mes:\n",
    "            fecha_str = f\"{año}-{mes}-{int(dia):02d} {hora_minuto}\" # Reescribir la fecha sin los \"de\" y con todo formateado\n",
    "            return pd.to_datetime(fecha_str, format=\"%Y-%m-%d %H:%M\") # Devolver con formato Datetime de pandas\n",
    "    return pd.NaT\n",
    "\n",
    "df[\"create_date\"] = df[\"create_date\"].apply(parse_fecha_hora) # Aplicamos la funcion a la columna con .apply\n",
    "df[\"last_conn\"] = df[\"last_conn\"].apply(parse_fecha_hora)\n",
    "\n",
    "print(df.head(3).to_string(index=False))"
   ]
  },
  {
   "cell_type": "code",
   "execution_count": 4,
   "id": "427843ab",
   "metadata": {},
   "outputs": [
    {
     "name": "stdout",
     "output_type": "stream",
     "text": [
      "2009-12-02 19:28:00\n",
      "15 años, 10 meses, 4 días\n"
     ]
    }
   ],
   "source": [
    "from dateutil.relativedelta import relativedelta # Libreria de deltas, un delta es la diferencia entre dos puntos (temporales en este caso)\n",
    "\n",
    "\n",
    "# Quiero ver el primer usuario creado y con acceso\n",
    "oldest_created = df.sort_values(\"create_date\").iloc[0]\n",
    "print(oldest_created[\"create_date\"]) # Filtro la columna por no enseñar informacion personal\n",
    "\n",
    "rd = relativedelta(pd.Timestamp.now(), oldest_created[\"create_date\"])\n",
    "print(f\"{rd.years} años, {rd.months} meses, {rd.days} días\")"
   ]
  },
  {
   "cell_type": "markdown",
   "id": "82df3083",
   "metadata": {},
   "source": [
    "Quiero también sacar una lista de cuantos cursos hay, y un ranking de cursos por participantes:"
   ]
  },
  {
   "cell_type": "code",
   "execution_count": 5,
   "id": "d6b97866",
   "metadata": {},
   "outputs": [
    {
     "name": "stdout",
     "output_type": "stream",
     "text": [
      "Número de cursos distintos: 456\n"
     ]
    }
   ],
   "source": [
    "import ast # Libreria para evaluar literales, es para que el string \"['algo']\" se evalue como una lista python [algo]\n",
    "\n",
    "# Convertir strings a listas reales en el dataframe\n",
    "df[\"courses\"] = df[\"courses\"].apply(lambda x: ast.literal_eval(x) if x else []) # La lambda hace que si no detecta nada cree la lista vacia\n",
    "\n",
    "# Flatten y sacar distinct\n",
    "all_courses = [curso.strip().lower() for sublist in df[\"courses\"] for curso in sublist if curso] # Teniendo listas podemos usarlas como un objeto de python e iterar\n",
    "distinct_courses = set(all_courses) # El objeto set se asegura que solo haya un elemento de cada\n",
    "print(\"Número de cursos distintos:\", len(distinct_courses))"
   ]
  },
  {
   "cell_type": "markdown",
   "id": "9b773dec",
   "metadata": {},
   "source": [
    "Con el poder de GPT podemos sacar un script que cree una red visual de nodos que representan cada clase, tarda un rato al ser 456 fotos y no lo he dejado completo:"
   ]
  },
  {
   "cell_type": "code",
   "execution_count": null,
   "id": "55f49bdc",
   "metadata": {},
   "outputs": [],
   "source": [
    "import pandas as pd\n",
    "import networkx as nx\n",
    "import plotly.graph_objects as go\n",
    "import ast\n",
    "import os\n",
    "\n",
    "# ======== Leer Excel ========\n",
    "df = pd.read_excel(\"output.xlsx\")\n",
    "\n",
    "# Si la columna 'courses' está en texto tipo \"['Math', 'Physics']\"\n",
    "if isinstance(df[\"courses\"].iloc[0], str):\n",
    "    df[\"courses\"] = df[\"courses\"].apply(ast.literal_eval)\n",
    "\n",
    "# Crear carpeta para las capturas\n",
    "os.makedirs(\"graficos_cursos\", exist_ok=True)\n",
    "\n",
    "# ======== Recorrer todos los cursos únicos ========\n",
    "todos_los_cursos = sorted({curso for lista in df[\"courses\"] for curso in lista})\n",
    "print(f\"Se generarán {len(todos_los_cursos)} gráficos...\")\n",
    "\n",
    "for curso in todos_los_cursos:\n",
    "    # Filtrar personas inscritas en este curso\n",
    "    df_filtrado = df[df[\"courses\"].apply(lambda c: curso in c)]\n",
    "\n",
    "    if df_filtrado.empty:\n",
    "        continue\n",
    "\n",
    "    # Crear grafo solo con las conexiones de este curso\n",
    "    G = nx.Graph()\n",
    "    for _, row in df_filtrado.iterrows():\n",
    "        persona = row[\"username\"]\n",
    "        G.add_edge(persona, curso)\n",
    "\n",
    "    # Calcular posiciones\n",
    "    pos = nx.spring_layout(G, seed=42)\n",
    "\n",
    "    # Aristas\n",
    "    edge_x, edge_y = [], []\n",
    "    for edge in G.edges():\n",
    "        x0, y0 = pos[edge[0]]\n",
    "        x1, y1 = pos[edge[1]]\n",
    "        edge_x += [x0, x1, None]\n",
    "        edge_y += [y0, y1, None]\n",
    "\n",
    "    edge_trace = go.Scatter(\n",
    "        x=edge_x, y=edge_y,\n",
    "        line=dict(width=1, color=\"#aaa\"),\n",
    "        hoverinfo=\"none\",\n",
    "        mode=\"lines\"\n",
    "    )\n",
    "\n",
    "    # Nodos\n",
    "    node_x, node_y, node_text, node_color = [], [], [], []\n",
    "    for node in G.nodes():\n",
    "        x, y = pos[node]\n",
    "        node_x.append(x)\n",
    "        node_y.append(y)\n",
    "        node_text.append(node)\n",
    "        node_color.append(\"#ff7f0e\" if node == curso else \"#1f77b4\")\n",
    "\n",
    "    node_trace = go.Scatter(\n",
    "        x=node_x, y=node_y,\n",
    "        mode=\"markers+text\",\n",
    "        text=node_text,\n",
    "        textposition=\"top center\",\n",
    "        hoverinfo=\"text\",\n",
    "        marker=dict(size=18, color=node_color, line_width=2)\n",
    "    )\n",
    "\n",
    "    fig = go.Figure(\n",
    "        data=[edge_trace, node_trace],\n",
    "        layout=go.Layout(\n",
    "            title=f\"Red de alumnos del curso '{curso}'\",\n",
    "            showlegend=False,\n",
    "            hovermode=\"closest\",\n",
    "            margin=dict(b=0, l=0, r=0, t=40),\n",
    "            xaxis=dict(showgrid=False, zeroline=False, visible=False),\n",
    "            yaxis=dict(showgrid=False, zeroline=False, visible=False)\n",
    "        )\n",
    "    )\n",
    "\n",
    "    # ======== Guardar PNG ========\n",
    "    nombre_archivo = f\"graficos_cursos/{curso.replace('/', '_').replace(' ', '_')}.png\"\n",
    "    fig.write_image(nombre_archivo, width=1000, height=800, scale=2)\n",
    "    print(f\"✅ Guardado: {nombre_archivo}\")\n",
    "\n",
    "print(\"\\n🎨 Capturas generadas en la carpeta: graficos_cursos/\")\n"
   ]
  },
  {
   "cell_type": "markdown",
   "id": "59b1cbe8",
   "metadata": {},
   "source": [
    "Podemos ver si dos personas tienen cursos en comun:"
   ]
  },
  {
   "cell_type": "code",
   "execution_count": null,
   "id": "e7dfa8e2",
   "metadata": {},
   "outputs": [
    {
     "name": "stdout",
     "output_type": "stream",
     "text": [
      "❌ Uno o ambos alumnos no existen en el DataFrame.\n"
     ]
    }
   ],
   "source": [
    "import ast\n",
    "\n",
    "def cursos_en_comun(df, alumno1, alumno2):\n",
    "    \"\"\"\n",
    "    Devuelve los cursos compartidos entre dos alumnos, si existen.\n",
    "    df: DataFrame con columnas 'username' y 'courses'\n",
    "    alumno1, alumno2: nombres de usuario a comparar\n",
    "    \"\"\"\n",
    "    # Asegurar que la columna de cursos sea lista\n",
    "    if isinstance(df[\"courses\"].iloc[0], str):\n",
    "        df[\"courses\"] = df[\"courses\"].apply(ast.literal_eval)\n",
    "\n",
    "    # Buscar las filas de los alumnos\n",
    "    c1 = df.loc[df[\"username\"] == alumno1, \"courses\"]\n",
    "    c2 = df.loc[df[\"username\"] == alumno2, \"courses\"]\n",
    "\n",
    "    if c1.empty or c2.empty:\n",
    "        return f\"❌ Uno o ambos alumnos no existen en el DataFrame.\"\n",
    "\n",
    "    # Crear sets\n",
    "    cursos1 = set(c1.iloc[0])\n",
    "    cursos2 = set(c2.iloc[0])\n",
    "\n",
    "    comun = cursos1 & cursos2  # intersección de sets cursos1 ∩ cursos2\n",
    "\n",
    "    if comun:\n",
    "        return f\"✅ {alumno1} y {alumno2} comparten estos cursos: {', '.join(comun)}\"\n",
    "    else:\n",
    "        return f\"🚫 {alumno1} y {alumno2} no comparten ningún curso.\"\n",
    "\n",
    "\n",
    "print(cursos_en_comun(df,\"Nombre1\",\"Nombre2\"))"
   ]
  },
  {
   "cell_type": "markdown",
   "id": "c26e96a6",
   "metadata": {},
   "source": [
    "Y podemos ver si alguien puede conocer a alguien a través de conocidos de clases, por usar el grafo más:"
   ]
  },
  {
   "cell_type": "code",
   "execution_count": 10,
   "id": "7ebe3430",
   "metadata": {},
   "outputs": [
    {
     "ename": "NodeNotFound",
     "evalue": "Source 1 is not in G",
     "output_type": "error",
     "traceback": [
      "\u001b[31m---------------------------------------------------------------------------\u001b[39m",
      "\u001b[31mNodeNotFound\u001b[39m                              Traceback (most recent call last)",
      "\u001b[36mCell\u001b[39m\u001b[36m \u001b[39m\u001b[32mIn[10]\u001b[39m\u001b[32m, line 36\u001b[39m\n\u001b[32m     33\u001b[39m     \u001b[38;5;28;01mreturn\u001b[39;00m \u001b[33m\"\u001b[39m\u001b[33m -> \u001b[39m\u001b[33m\"\u001b[39m.join(cadena)\n\u001b[32m     35\u001b[39m \u001b[38;5;66;03m# Ejemplo\u001b[39;00m\n\u001b[32m---> \u001b[39m\u001b[32m36\u001b[39m \u001b[38;5;28mprint\u001b[39m(\u001b[43mcamino_completo\u001b[49m\u001b[43m(\u001b[49m\u001b[43mG\u001b[49m\u001b[43m,\u001b[49m\u001b[43m \u001b[49m\u001b[33;43m\"\u001b[39;49m\u001b[33;43m1\u001b[39;49m\u001b[33;43m\"\u001b[39;49m\u001b[43m,\u001b[49m\u001b[43m \u001b[49m\u001b[33;43m\"\u001b[39;49m\u001b[33;43m2\u001b[39;49m\u001b[33;43m\"\u001b[39;49m\u001b[43m)\u001b[49m)\n",
      "\u001b[36mCell\u001b[39m\u001b[36m \u001b[39m\u001b[32mIn[10]\u001b[39m\u001b[32m, line 21\u001b[39m, in \u001b[36mcamino_completo\u001b[39m\u001b[34m(grafo, usuario1, usuario2)\u001b[39m\n\u001b[32m     18\u001b[39m \u001b[38;5;28;01mdef\u001b[39;00m\u001b[38;5;250m \u001b[39m\u001b[34mcamino_completo\u001b[39m(grafo, usuario1, usuario2):\n\u001b[32m     19\u001b[39m     \u001b[38;5;28;01mtry\u001b[39;00m:\n\u001b[32m     20\u001b[39m         \u001b[38;5;66;03m# Encuentra un camino más corto\u001b[39;00m\n\u001b[32m---> \u001b[39m\u001b[32m21\u001b[39m         path = \u001b[43mnx\u001b[49m\u001b[43m.\u001b[49m\u001b[43mshortest_path\u001b[49m\u001b[43m(\u001b[49m\u001b[43mgrafo\u001b[49m\u001b[43m,\u001b[49m\u001b[43m \u001b[49m\u001b[43msource\u001b[49m\u001b[43m=\u001b[49m\u001b[43musuario1\u001b[49m\u001b[43m,\u001b[49m\u001b[43m \u001b[49m\u001b[43mtarget\u001b[49m\u001b[43m=\u001b[49m\u001b[43musuario2\u001b[49m\u001b[43m)\u001b[49m\n\u001b[32m     22\u001b[39m     \u001b[38;5;28;01mexcept\u001b[39;00m nx.NetworkXNoPath:\n\u001b[32m     23\u001b[39m         \u001b[38;5;28;01mreturn\u001b[39;00m \u001b[33mf\u001b[39m\u001b[33m\"\u001b[39m\u001b[33m🚫 No hay camino entre \u001b[39m\u001b[38;5;132;01m{\u001b[39;00musuario\u001b[38;5;132;01m}\u001b[39;00m\u001b[33m y \u001b[39m\u001b[38;5;132;01m{\u001b[39;00musuario2\u001b[38;5;132;01m}\u001b[39;00m\u001b[33m\"\u001b[39m\n",
      "\u001b[36mFile \u001b[39m\u001b[32m<class 'networkx.utils.decorators.argmap'> compilation 16:3\u001b[39m, in \u001b[36margmap_shortest_path_13\u001b[39m\u001b[34m(G, source, target, weight, method, backend, **backend_kwargs)\u001b[39m\n\u001b[32m      1\u001b[39m \u001b[38;5;28;01mimport\u001b[39;00m\u001b[38;5;250m \u001b[39m\u001b[34;01mbz2\u001b[39;00m\n\u001b[32m      2\u001b[39m \u001b[38;5;28;01mimport\u001b[39;00m\u001b[38;5;250m \u001b[39m\u001b[34;01mcollections\u001b[39;00m\n\u001b[32m----> \u001b[39m\u001b[32m3\u001b[39m \u001b[38;5;28;01mimport\u001b[39;00m\u001b[38;5;250m \u001b[39m\u001b[34;01mgzip\u001b[39;00m\n\u001b[32m      4\u001b[39m \u001b[38;5;28;01mimport\u001b[39;00m\u001b[38;5;250m \u001b[39m\u001b[34;01minspect\u001b[39;00m\n\u001b[32m      5\u001b[39m \u001b[38;5;28;01mimport\u001b[39;00m\u001b[38;5;250m \u001b[39m\u001b[34;01mitertools\u001b[39;00m\n",
      "\u001b[36mFile \u001b[39m\u001b[32mc:\\Users\\Puesto04\\DALP\\.venv\\Lib\\site-packages\\networkx\\utils\\backends.py:535\u001b[39m, in \u001b[36m_dispatchable._call_if_no_backends_installed\u001b[39m\u001b[34m(self, backend, *args, **kwargs)\u001b[39m\n\u001b[32m    529\u001b[39m \u001b[38;5;28;01mif\u001b[39;00m \u001b[33m\"\u001b[39m\u001b[33mnetworkx\u001b[39m\u001b[33m\"\u001b[39m \u001b[38;5;129;01mnot\u001b[39;00m \u001b[38;5;129;01min\u001b[39;00m \u001b[38;5;28mself\u001b[39m.backends:\n\u001b[32m    530\u001b[39m     \u001b[38;5;28;01mraise\u001b[39;00m \u001b[38;5;167;01mNotImplementedError\u001b[39;00m(\n\u001b[32m    531\u001b[39m         \u001b[33mf\u001b[39m\u001b[33m\"\u001b[39m\u001b[33m'\u001b[39m\u001b[38;5;132;01m{\u001b[39;00m\u001b[38;5;28mself\u001b[39m.name\u001b[38;5;132;01m}\u001b[39;00m\u001b[33m'\u001b[39m\u001b[33m is not implemented by \u001b[39m\u001b[33m'\u001b[39m\u001b[33mnetworkx\u001b[39m\u001b[33m'\u001b[39m\u001b[33m backend. \u001b[39m\u001b[33m\"\u001b[39m\n\u001b[32m    532\u001b[39m         \u001b[33m\"\u001b[39m\u001b[33mThis function is included in NetworkX as an API to dispatch to \u001b[39m\u001b[33m\"\u001b[39m\n\u001b[32m    533\u001b[39m         \u001b[33m\"\u001b[39m\u001b[33mother backends.\u001b[39m\u001b[33m\"\u001b[39m\n\u001b[32m    534\u001b[39m     )\n\u001b[32m--> \u001b[39m\u001b[32m535\u001b[39m \u001b[38;5;28;01mreturn\u001b[39;00m \u001b[38;5;28;43mself\u001b[39;49m\u001b[43m.\u001b[49m\u001b[43morig_func\u001b[49m\u001b[43m(\u001b[49m\u001b[43m*\u001b[49m\u001b[43margs\u001b[49m\u001b[43m,\u001b[49m\u001b[43m \u001b[49m\u001b[43m*\u001b[49m\u001b[43m*\u001b[49m\u001b[43mkwargs\u001b[49m\u001b[43m)\u001b[49m\n",
      "\u001b[36mFile \u001b[39m\u001b[32mc:\\Users\\Puesto04\\DALP\\.venv\\Lib\\site-packages\\networkx\\algorithms\\shortest_paths\\generic.py:170\u001b[39m, in \u001b[36mshortest_path\u001b[39m\u001b[34m(G, source, target, weight, method)\u001b[39m\n\u001b[32m    167\u001b[39m \u001b[38;5;28;01melse\u001b[39;00m:\n\u001b[32m    168\u001b[39m     \u001b[38;5;66;03m# Find shortest source-target path.\u001b[39;00m\n\u001b[32m    169\u001b[39m     \u001b[38;5;28;01mif\u001b[39;00m method == \u001b[33m\"\u001b[39m\u001b[33munweighted\u001b[39m\u001b[33m\"\u001b[39m:\n\u001b[32m--> \u001b[39m\u001b[32m170\u001b[39m         paths = \u001b[43mnx\u001b[49m\u001b[43m.\u001b[49m\u001b[43mbidirectional_shortest_path\u001b[49m\u001b[43m(\u001b[49m\u001b[43mG\u001b[49m\u001b[43m,\u001b[49m\u001b[43m \u001b[49m\u001b[43msource\u001b[49m\u001b[43m,\u001b[49m\u001b[43m \u001b[49m\u001b[43mtarget\u001b[49m\u001b[43m)\u001b[49m\n\u001b[32m    171\u001b[39m     \u001b[38;5;28;01melif\u001b[39;00m method == \u001b[33m\"\u001b[39m\u001b[33mdijkstra\u001b[39m\u001b[33m\"\u001b[39m:\n\u001b[32m    172\u001b[39m         _, paths = nx.bidirectional_dijkstra(G, source, target, weight)\n",
      "\u001b[36mFile \u001b[39m\u001b[32m<class 'networkx.utils.decorators.argmap'> compilation 20:3\u001b[39m, in \u001b[36margmap_bidirectional_shortest_path_17\u001b[39m\u001b[34m(G, source, target, backend, **backend_kwargs)\u001b[39m\n\u001b[32m      1\u001b[39m \u001b[38;5;28;01mimport\u001b[39;00m\u001b[38;5;250m \u001b[39m\u001b[34;01mbz2\u001b[39;00m\n\u001b[32m      2\u001b[39m \u001b[38;5;28;01mimport\u001b[39;00m\u001b[38;5;250m \u001b[39m\u001b[34;01mcollections\u001b[39;00m\n\u001b[32m----> \u001b[39m\u001b[32m3\u001b[39m \u001b[38;5;28;01mimport\u001b[39;00m\u001b[38;5;250m \u001b[39m\u001b[34;01mgzip\u001b[39;00m\n\u001b[32m      4\u001b[39m \u001b[38;5;28;01mimport\u001b[39;00m\u001b[38;5;250m \u001b[39m\u001b[34;01minspect\u001b[39;00m\n\u001b[32m      5\u001b[39m \u001b[38;5;28;01mimport\u001b[39;00m\u001b[38;5;250m \u001b[39m\u001b[34;01mitertools\u001b[39;00m\n",
      "\u001b[36mFile \u001b[39m\u001b[32mc:\\Users\\Puesto04\\DALP\\.venv\\Lib\\site-packages\\networkx\\utils\\backends.py:535\u001b[39m, in \u001b[36m_dispatchable._call_if_no_backends_installed\u001b[39m\u001b[34m(self, backend, *args, **kwargs)\u001b[39m\n\u001b[32m    529\u001b[39m \u001b[38;5;28;01mif\u001b[39;00m \u001b[33m\"\u001b[39m\u001b[33mnetworkx\u001b[39m\u001b[33m\"\u001b[39m \u001b[38;5;129;01mnot\u001b[39;00m \u001b[38;5;129;01min\u001b[39;00m \u001b[38;5;28mself\u001b[39m.backends:\n\u001b[32m    530\u001b[39m     \u001b[38;5;28;01mraise\u001b[39;00m \u001b[38;5;167;01mNotImplementedError\u001b[39;00m(\n\u001b[32m    531\u001b[39m         \u001b[33mf\u001b[39m\u001b[33m\"\u001b[39m\u001b[33m'\u001b[39m\u001b[38;5;132;01m{\u001b[39;00m\u001b[38;5;28mself\u001b[39m.name\u001b[38;5;132;01m}\u001b[39;00m\u001b[33m'\u001b[39m\u001b[33m is not implemented by \u001b[39m\u001b[33m'\u001b[39m\u001b[33mnetworkx\u001b[39m\u001b[33m'\u001b[39m\u001b[33m backend. \u001b[39m\u001b[33m\"\u001b[39m\n\u001b[32m    532\u001b[39m         \u001b[33m\"\u001b[39m\u001b[33mThis function is included in NetworkX as an API to dispatch to \u001b[39m\u001b[33m\"\u001b[39m\n\u001b[32m    533\u001b[39m         \u001b[33m\"\u001b[39m\u001b[33mother backends.\u001b[39m\u001b[33m\"\u001b[39m\n\u001b[32m    534\u001b[39m     )\n\u001b[32m--> \u001b[39m\u001b[32m535\u001b[39m \u001b[38;5;28;01mreturn\u001b[39;00m \u001b[38;5;28;43mself\u001b[39;49m\u001b[43m.\u001b[49m\u001b[43morig_func\u001b[49m\u001b[43m(\u001b[49m\u001b[43m*\u001b[49m\u001b[43margs\u001b[49m\u001b[43m,\u001b[49m\u001b[43m \u001b[49m\u001b[43m*\u001b[49m\u001b[43m*\u001b[49m\u001b[43mkwargs\u001b[49m\u001b[43m)\u001b[49m\n",
      "\u001b[36mFile \u001b[39m\u001b[32mc:\\Users\\Puesto04\\DALP\\.venv\\Lib\\site-packages\\networkx\\algorithms\\shortest_paths\\unweighted.py:227\u001b[39m, in \u001b[36mbidirectional_shortest_path\u001b[39m\u001b[34m(G, source, target)\u001b[39m\n\u001b[32m    188\u001b[39m \u001b[38;5;250m\u001b[39m\u001b[33;03m\"\"\"Returns a list of nodes in a shortest path between source and target.\u001b[39;00m\n\u001b[32m    189\u001b[39m \n\u001b[32m    190\u001b[39m \u001b[33;03mParameters\u001b[39;00m\n\u001b[32m   (...)\u001b[39m\u001b[32m    223\u001b[39m \u001b[33;03mThis algorithm is used by shortest_path(G, source, target).\u001b[39;00m\n\u001b[32m    224\u001b[39m \u001b[33;03m\"\"\"\u001b[39;00m\n\u001b[32m    226\u001b[39m \u001b[38;5;28;01mif\u001b[39;00m source \u001b[38;5;129;01mnot\u001b[39;00m \u001b[38;5;129;01min\u001b[39;00m G:\n\u001b[32m--> \u001b[39m\u001b[32m227\u001b[39m     \u001b[38;5;28;01mraise\u001b[39;00m nx.NodeNotFound(\u001b[33mf\u001b[39m\u001b[33m\"\u001b[39m\u001b[33mSource \u001b[39m\u001b[38;5;132;01m{\u001b[39;00msource\u001b[38;5;132;01m}\u001b[39;00m\u001b[33m is not in G\u001b[39m\u001b[33m\"\u001b[39m)\n\u001b[32m    229\u001b[39m \u001b[38;5;28;01mif\u001b[39;00m target \u001b[38;5;129;01mnot\u001b[39;00m \u001b[38;5;129;01min\u001b[39;00m G:\n\u001b[32m    230\u001b[39m     \u001b[38;5;28;01mraise\u001b[39;00m nx.NodeNotFound(\u001b[33mf\u001b[39m\u001b[33m\"\u001b[39m\u001b[33mTarget \u001b[39m\u001b[38;5;132;01m{\u001b[39;00mtarget\u001b[38;5;132;01m}\u001b[39;00m\u001b[33m is not in G\u001b[39m\u001b[33m\"\u001b[39m)\n",
      "\u001b[31mNodeNotFound\u001b[39m: Source 1 is not in G"
     ]
    }
   ],
   "source": [
    "import pandas as pd\n",
    "import networkx as nx\n",
    "import ast\n",
    "\n",
    "# Leer Excel\n",
    "df = pd.read_excel(\"output.xlsx\")\n",
    "if isinstance(df[\"courses\"].iloc[0], str):\n",
    "    df[\"courses\"] = df[\"courses\"].apply(ast.literal_eval)\n",
    "\n",
    "# Crear grafo bipartito: alumnos <-> cursos\n",
    "G = nx.Graph()\n",
    "for _, row in df.iterrows():\n",
    "    usuario = row[\"username\"]\n",
    "    for curso in row[\"courses\"]:\n",
    "        G.add_edge(usuario, curso)\n",
    "\n",
    "# Función para encontrar camino y mostrarlo tipo \"Alba -> Fisica -> Belen -> Ingles -> Carlos\"\n",
    "def camino_completo(grafo, usuario1, usuario2):\n",
    "    try:\n",
    "        # Encuentra un camino más corto\n",
    "        path = nx.shortest_path(grafo, source=usuario1, target=usuario2)\n",
    "    except nx.NetworkXNoPath:\n",
    "        return f\"🚫 No hay camino entre {usuario} y {usuario2}\"\n",
    "\n",
    "    # Construir cadena indicando si es alumno o curso\n",
    "    cadena = []\n",
    "    for i in range(len(path)-1):\n",
    "        cadena.append(path[i])\n",
    "\n",
    "    cadena.append(path[-1])\n",
    "    \n",
    "    # Añadir flechas\n",
    "    return \" -> \".join(cadena)\n",
    "\n",
    "# Ejemplo\n",
    "print(camino_completo(G, \"1\", \"2\"))\n"
   ]
  },
  {
   "cell_type": "markdown",
   "id": "caa6f771",
   "metadata": {},
   "source": [
    "Vamos a simplemente ver ranking de cursos por cantidad de usuarios inscritos:"
   ]
  },
  {
   "cell_type": "code",
   "execution_count": 21,
   "id": "31db1196",
   "metadata": {},
   "outputs": [
    {
     "name": "stdout",
     "output_type": "stream",
     "text": [
      "                courses  cantidad_usuarios\n",
      "0  Jefatura de Estudios                160\n"
     ]
    }
   ],
   "source": [
    "import pandas as pd\n",
    "import ast\n",
    "\n",
    "# Leer Excel\n",
    "df = pd.read_excel(\"output.xlsx\")\n",
    "\n",
    "# Si la columna 'courses' es texto tipo \"['Math', 'Physics']\"\n",
    "if isinstance(df[\"courses\"].iloc[0], str):\n",
    "    df[\"courses\"] = df[\"courses\"].apply(ast.literal_eval)\n",
    "\n",
    "# Explode para tener 1 fila por alumno-curso\n",
    "df_exploded = df.explode(\"courses\")\n",
    "\n",
    "# Contar alumnos por curso\n",
    "conteo = df_exploded.groupby(\"courses\")[\"username\"].nunique().reset_index()\n",
    "conteo = conteo.rename(columns={\"username\": \"cantidad_usuarios\"})\n",
    "\n",
    "# Ordenar de mayor a menor\n",
    "conteo = conteo.sort_values(\"cantidad_usuarios\", ascending=False).reset_index(drop=True)\n",
    "\n",
    "print(conteo.head(1))"
   ]
  },
  {
   "cell_type": "markdown",
   "id": "2edc7319",
   "metadata": {},
   "source": [
    "Hay muchos cursos vaciados, vamos a suponer que los alumnos graduados se borran y solo el profesor se queda en el curso hasta que se elimina este o son proyectos o asignaturas sin abrir al alumnado:"
   ]
  },
  {
   "cell_type": "code",
   "execution_count": 18,
   "id": "3bea7063",
   "metadata": {},
   "outputs": [
    {
     "name": "stdout",
     "output_type": "stream",
     "text": [
      "Hay 83 cursos con solo 1 usuario.\n"
     ]
    }
   ],
   "source": [
    "# Filtrar cursos con solo 1 usuario\n",
    "cursos_solo_un_usuario = conteo[conteo[\"cantidad_usuarios\"] == 1]\n",
    "\n",
    "# Cantidad de cursos con un solo usuario\n",
    "cantidad = len(cursos_solo_un_usuario)\n",
    "\n",
    "print(f\"Hay {cantidad} cursos con solo 1 usuario.\")"
   ]
  },
  {
   "cell_type": "markdown",
   "id": "2fa02c30",
   "metadata": {},
   "source": [
    "Se pueden hacer demasiadas cosas a partir de un scraping y un excel cargado de datos"
   ]
  }
 ],
 "metadata": {
  "kernelspec": {
   "display_name": ".venv",
   "language": "python",
   "name": "python3"
  },
  "language_info": {
   "codemirror_mode": {
    "name": "ipython",
    "version": 3
   },
   "file_extension": ".py",
   "mimetype": "text/x-python",
   "name": "python",
   "nbconvert_exporter": "python",
   "pygments_lexer": "ipython3",
   "version": "3.13.3"
  }
 },
 "nbformat": 4,
 "nbformat_minor": 5
}
