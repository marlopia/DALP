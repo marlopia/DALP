{
 "cells": [
  {
   "cell_type": "markdown",
   "id": "c64c929e",
   "metadata": {},
   "source": [
    "# Análisis de datos de Webscraping\n",
    "\n",
    "Tomando de base el output.xlsx sacado con el cuaderno de scraping_login vamos a intentar hacer un análisis de datos básico.\n",
    "\n",
    "## Estructura:\n",
    "\n",
    "La estructura del fichero es la siguiente:\n",
    "\n",
    "id = id de la url e identificador del usuario\n",
    "\n",
    "username = nombre del usuario, obligatorio sino la fila no estaría\n",
    "\n",
    "profile_pic = url a la foto de perfil, si no hay será \"No photo\"\n",
    "\n",
    "create_date = fecha de primer acceso tras la creación del usuario, puede ser \"Nunca\" si no se ha accedido por primera vez o \"N/A\" si hubo error de lectura, no viene en formato estandar\n",
    "\n",
    "last_conn = fecha de ultima hora de conexión, puede ser \"Nunca\" si no se ha accedido por primera vez o \"N/A\" si hubo error de lectura, no viene en formato estandar\n",
    "\n",
    "email = direccion de correo, en caso de no haber será \"No email\"\n",
    "\n",
    "courses = array de strings de los cursos a los que está inscrito el usuario, puede ser vacío, los strings vienen con sigle comma ('ejemplo')\n",
    "\n"
   ]
  },
  {
   "cell_type": "markdown",
   "id": "1eb65a17",
   "metadata": {},
   "source": [
    "Vamos a empezar por cargar el Excel a un DataFrame"
   ]
  },
  {
   "cell_type": "code",
   "execution_count": 1,
   "id": "f718ebcd",
   "metadata": {},
   "outputs": [
    {
     "name": "stdout",
     "output_type": "stream",
     "text": [
      " id       username                                                                  profile_pic                                               create_date                                                     last_conn    email courses\n",
      "  1     Gonbidatua                                                                     No photo                                                     Nunca                                                         Nunca No email      []\n",
      "  2 Admin ICJardin                                                                     No photo       viernes, 5 de julio de 2024, 09:55  (1 año 94 días) martes, 7 de octubre de 2025, 10:12  (10 minutos 14 segundos) No email      []\n",
      "  3     Admin User https://moodle.icjardin.com/pluginfile.php/18/user/icon/boost/f1?rev=2622497 martes, 17 de noviembre de 2020, 09:45  (4 años 324 días)          jueves, 27 de junio de 2024, 19:45  (1 año 101 días) No email      []\n"
     ]
    }
   ],
   "source": [
    "from pathlib import Path\n",
    "import pandas as pd\n",
    "\n",
    "xlsx_path = Path.cwd() / \"output.xlsx\"\n",
    "\n",
    "# Leer Excel\n",
    "df = pd.read_excel(xlsx_path)\n",
    "\n",
    "# Mostrar las primeras filas\n",
    "print(df.head(3).to_string(index=False))"
   ]
  },
  {
   "cell_type": "markdown",
   "id": "5f902b08",
   "metadata": {},
   "source": [
    "Quiero ver algunas estadísticas:"
   ]
  },
  {
   "cell_type": "code",
   "execution_count": 2,
   "id": "095d67e3",
   "metadata": {},
   "outputs": [
    {
     "name": "stdout",
     "output_type": "stream",
     "text": [
      "(879, 7)\n",
      "Cantidad de gente con foto: 65, eso es el 7.39% de los usuarios\n",
      "Cantidad de gente con email: 25, eso es el 2.84% de los usuarios\n",
      "Cantidad de gente sin cursos: 17, eso es el 1.93% de los usuarios\n"
     ]
    }
   ],
   "source": [
    "# Muestra (filas, columnas) en formato tupla\n",
    "print(df.shape)\n",
    "\n",
    "# Guardamos la cantidad de filas\n",
    "total_rows = df.shape[0]\n",
    "\n",
    "# Calculamos cuanta gente tiene foto creando un subset de DataFrame\n",
    "with_photo = total_rows - df[df[\"profile_pic\"] == \"No photo\"].shape[0] # Total - gente sin foto\n",
    "print(f\"Cantidad de gente con foto: {with_photo}, eso es el {((with_photo*100)/total_rows):.2f}% de los usuarios\")\n",
    "\n",
    "# Lo mismo con emails, probamos a usar el pseudoSQL de pandas con .query y simplificamos el cálculo\n",
    "with_email = df.query(\"email != 'No email'\").shape[0]\n",
    "print(f\"Cantidad de gente con email: {with_email}, eso es el {((with_email*100)/total_rows):.2f}% de los usuarios\")\n",
    "\n",
    "# Vamos a ver el número de cuentas sin cursos\n",
    "no_courses = df.query(\"courses == '[]'\").shape[0]\n",
    "print(f\"Cantidad de gente sin cursos: {no_courses}, eso es el {((no_courses*100)/total_rows):.2f}% de los usuarios\")"
   ]
  },
  {
   "cell_type": "markdown",
   "id": "e8dec81a",
   "metadata": {},
   "source": [
    "Quiero mirar estadísticas de conexión, para eso tengo que formatear las columnas con fechas a algo legible para python:"
   ]
  },
  {
   "cell_type": "code",
   "execution_count": 3,
   "id": "e5407e79",
   "metadata": {},
   "outputs": [
    {
     "name": "stdout",
     "output_type": "stream",
     "text": [
      " id       username                                                                  profile_pic         create_date           last_conn    email courses\n",
      "  1     Gonbidatua                                                                     No photo                 NaT                 NaT No email      []\n",
      "  2 Admin ICJardin                                                                     No photo 2024-07-05 09:55:00 2025-10-07 10:12:00 No email      []\n",
      "  3     Admin User https://moodle.icjardin.com/pluginfile.php/18/user/icon/boost/f1?rev=2622497 2020-11-17 09:45:00 2024-06-27 19:45:00 No email      []\n"
     ]
    }
   ],
   "source": [
    "import re\n",
    "\n",
    "# Diccionario de meses españoles para convertir a número\n",
    "meses = {\n",
    "    \"enero\": \"01\", \"febrero\": \"02\", \"marzo\": \"03\", \"abril\": \"04\",\n",
    "    \"mayo\": \"05\", \"junio\": \"06\", \"julio\": \"07\", \"agosto\": \"08\",\n",
    "    \"septiembre\": \"09\", \"octubre\": \"10\", \"noviembre\": \"11\", \"diciembre\": \"12\"\n",
    "}\n",
    "\n",
    "# Definimos una funcion auxiliar\n",
    "def parse_fecha_hora(texto):\n",
    "    if pd.isna(texto) or texto in [\"N/A\", \"Nunca\", \"\"]: # Si no podemos determinar la fecha marcamos Not a Time para pandas\n",
    "        return pd.NaT\n",
    "    # Regex para día, mes, año, hora:minuto\n",
    "    target = re.search(r\"(\\d{1,2}) de (\\w+) de (\\d{4}), (\\d{1,2}:\\d{2})\", texto)\n",
    "    if target:\n",
    "        dia, mes_texto, año, hora_minuto = target.groups() # Pasar a diferentes variables\n",
    "        mes = meses.get(mes_texto.lower()) # Pasar el mes a minusculas por si acaso y sacar el numero de mes de nuetro diccionario\n",
    "        if mes:\n",
    "            fecha_str = f\"{año}-{mes}-{int(dia):02d} {hora_minuto}\" # Reescribir la fecha sin los \"de\" y con todo formateado\n",
    "            return pd.to_datetime(fecha_str, format=\"%Y-%m-%d %H:%M\") # Devolver con formato Datetime de pandas\n",
    "    return pd.NaT\n",
    "\n",
    "df[\"create_date\"] = df[\"create_date\"].apply(parse_fecha_hora) # Aplicamos la funcion a la columna con .apply\n",
    "df[\"last_conn\"] = df[\"last_conn\"].apply(parse_fecha_hora)\n",
    "\n",
    "print(df.head(3).to_string(index=False))"
   ]
  },
  {
   "cell_type": "code",
   "execution_count": 4,
   "id": "427843ab",
   "metadata": {},
   "outputs": [
    {
     "name": "stdout",
     "output_type": "stream",
     "text": [
      "2009-12-02 19:28:00\n",
      "15 años, 10 meses, 4 días\n"
     ]
    }
   ],
   "source": [
    "from dateutil.relativedelta import relativedelta # Libreria de deltas, un delta es la diferencia entre dos puntos (temporales en este caso)\n",
    "\n",
    "\n",
    "# Quiero ver el primer usuario creado y con acceso\n",
    "oldest_created = df.sort_values(\"create_date\").iloc[0]\n",
    "print(oldest_created[\"create_date\"]) # Filtro la columna por no enseñar informacion personal\n",
    "\n",
    "rd = relativedelta(pd.Timestamp.now(), oldest_created[\"create_date\"])\n",
    "print(f\"{rd.years} años, {rd.months} meses, {rd.days} días\")"
   ]
  },
  {
   "cell_type": "markdown",
   "id": "82df3083",
   "metadata": {},
   "source": [
    "Quiero también sacar una lista de cuantos cursos hay, y un ranking de cursos por participantes:"
   ]
  },
  {
   "cell_type": "code",
   "execution_count": 5,
   "id": "d6b97866",
   "metadata": {},
   "outputs": [
    {
     "name": "stdout",
     "output_type": "stream",
     "text": [
      "Número de cursos distintos: 456\n"
     ]
    }
   ],
   "source": [
    "import ast # Libreria para evaluar literales, es para que el string \"['algo']\" se evalue como una lista python [algo]\n",
    "\n",
    "# Convertir strings a listas reales en el dataframe\n",
    "df[\"courses\"] = df[\"courses\"].apply(lambda x: ast.literal_eval(x) if x else []) # La lambda hace que si no detecta nada cree la lista vacia\n",
    "\n",
    "# Flatten y sacar distinct\n",
    "all_courses = [curso.strip().lower() for sublist in df[\"courses\"] for curso in sublist if curso] # Teniendo listas podemos usarlas como un objeto de python e iterar\n",
    "distinct_courses = set(all_courses) # El objeto set se asegura que solo haya un elemento de cada\n",
    "print(\"Número de cursos distintos:\", len(distinct_courses))"
   ]
  }
 ],
 "metadata": {
  "kernelspec": {
   "display_name": ".venv",
   "language": "python",
   "name": "python3"
  },
  "language_info": {
   "codemirror_mode": {
    "name": "ipython",
    "version": 3
   },
   "file_extension": ".py",
   "mimetype": "text/x-python",
   "name": "python",
   "nbconvert_exporter": "python",
   "pygments_lexer": "ipython3",
   "version": "3.13.3"
  }
 },
 "nbformat": 4,
 "nbformat_minor": 5
}
