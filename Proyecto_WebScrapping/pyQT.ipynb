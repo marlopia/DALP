{
 "cells": [
  {
   "cell_type": "markdown",
   "id": "ccba3f38",
   "metadata": {},
   "source": [
    "# Testing de GUI\n",
    "Crear un venv para entorno de testing, fijaremos las dependencias en un requirements.txt cuando codifiquemos bien. \n",
    "Si falta paquete instalar con pip y **reiniciar el kernel**\n",
    "\n",
    "Los imports estan en orden de ejecucion, si se ejecutan las celdas fuera de orden hay que importar a mano lo que falte.\n",
    "No llamar a QApplication mas de una vez, usar app, o sino peta el kernel"
   ]
  },
  {
   "cell_type": "code",
   "execution_count": 1,
   "id": "ff0e1bcb",
   "metadata": {},
   "outputs": [
    {
     "data": {
      "text/plain": [
       "0"
      ]
     },
     "execution_count": 1,
     "metadata": {},
     "output_type": "execute_result"
    }
   ],
   "source": [
    "from PyQt5.QtWidgets import QApplication, QWidget\n",
    "\n",
    "# Primero hay que crear el objeto aplicación, le pasamos una lista vacia porque requiere una lista de argumentos, que en nuestro caso es ninguno\n",
    "app = QApplication([])\n",
    "\n",
    "# Creamos un Widget, que por defecto viene invisible\n",
    "window = QWidget()\n",
    "window.show()\n",
    "\n",
    "# Esto ejecuta un bucle infinito hasta que el usuario cierra la app\n",
    "app.exec()"
   ]
  },
  {
   "cell_type": "markdown",
   "id": "f4a220f0",
   "metadata": {},
   "source": [
    "También podemos crear botones:"
   ]
  },
  {
   "cell_type": "code",
   "execution_count": 2,
   "id": "fe05ebb3",
   "metadata": {},
   "outputs": [
    {
     "data": {
      "text/plain": [
       "0"
      ]
     },
     "execution_count": 2,
     "metadata": {},
     "output_type": "execute_result"
    }
   ],
   "source": [
    "from PyQt5.QtWidgets import QPushButton\n",
    "\n",
    "# A QWidget le metemos un QPushButton, parece que meter objetos dentro de objetos es como funciona pyQT\n",
    "window = QPushButton(\"Click Aqui\")\n",
    "window.show()\n",
    "\n",
    "app.exec()"
   ]
  },
  {
   "cell_type": "markdown",
   "id": "2ad73162",
   "metadata": {},
   "source": [
    "Hay una clase llamada MainWindow que parece tener funciones adicionales internas, se invoca igual que una normal:"
   ]
  },
  {
   "cell_type": "code",
   "execution_count": 3,
   "id": "a95e4f5d",
   "metadata": {},
   "outputs": [
    {
     "data": {
      "text/plain": [
       "0"
      ]
     },
     "execution_count": 3,
     "metadata": {},
     "output_type": "execute_result"
    }
   ],
   "source": [
    "from PyQt5.QtWidgets import QMainWindow\n",
    "\n",
    "window = QMainWindow()\n",
    "window.show()\n",
    "\n",
    "app.exec()"
   ]
  },
  {
   "cell_type": "markdown",
   "id": "a56698fc",
   "metadata": {},
   "source": [
    "Para customizar la ventana hay que crear una clase hijo de QMainWindow y dentro podemos tocar cosas:"
   ]
  },
  {
   "cell_type": "code",
   "execution_count": 4,
   "id": "72de3735",
   "metadata": {},
   "outputs": [
    {
     "data": {
      "text/plain": [
       "0"
      ]
     },
     "execution_count": 4,
     "metadata": {},
     "output_type": "execute_result"
    }
   ],
   "source": [
    "# Mi clase VentanaPrincipal va a ser hija de QMainWindow y le voy a poner un titulo y un botón\n",
    "class VentanaPrincipal(QMainWindow):\n",
    "\n",
    "    def __init__(self):\n",
    "\n",
    "        # Inicializala como si fuera un QMainWindow (super es el padre)\n",
    "        super().__init__()\n",
    "\n",
    "        # Podemos cambiar el titulo con setWindowTitle\n",
    "        self.setWindowTitle(\"WebScrapingDALP\")\n",
    "        button = QPushButton(\"Click Aqui!\")\n",
    "\n",
    "        # Esto permite alinear el widget al centro\n",
    "        self.setCentralWidget(button)\n",
    "\n",
    "# Invocamos a la clase\n",
    "window = VentanaPrincipal()\n",
    "window.show()\n",
    "\n",
    "app.exec()"
   ]
  },
  {
   "cell_type": "markdown",
   "id": "df1d9af4",
   "metadata": {},
   "source": [
    "El botón cubre toda la ventana y se mueve dinamicamente si le cambiamos el tamaño, y la app se llama diferente, perfecto.\n",
    "\n",
    "Vamos a meter algo de texto en vez del botón:"
   ]
  },
  {
   "cell_type": "code",
   "execution_count": 5,
   "id": "9323b26a",
   "metadata": {},
   "outputs": [
    {
     "data": {
      "text/plain": [
       "0"
      ]
     },
     "execution_count": 5,
     "metadata": {},
     "output_type": "execute_result"
    }
   ],
   "source": [
    "from PyQt5.QtWidgets import QLabel\n",
    "from PyQt5.QtCore import Qt\n",
    "\n",
    "class VentanaPrincipal(QMainWindow):\n",
    "\n",
    "    def __init__(self):\n",
    "\n",
    "        super().__init__()\n",
    "\n",
    "        self.setWindowTitle(\"WebScrapingDALP\")\n",
    "        label = QLabel(\"Hello World\")\n",
    "\n",
    "        # Podemos alinear el texto al centro, pero tenemos que usar la utilidad de QtCore\n",
    "        label.setAlignment(Qt.AlignCenter)\n",
    "\n",
    "        self.setCentralWidget(label)\n",
    "\n",
    "\n",
    "\n",
    "window = VentanaPrincipal()\n",
    "window.show()\n",
    "\n",
    "app.exec()"
   ]
  },
  {
   "cell_type": "markdown",
   "id": "6a4ee378",
   "metadata": {},
   "source": [
    "Y si quiero las dos? Al parecer el widget principal por si solo solo permite un widget dentro, pero existe otro widget (me voy a cansar de decir widget) que se llama layout que es una plantilla que permite dividir, posicionar y sobre todo tener multiples subventanas.\n",
    "\n",
    "Vamos a ver como se puede implementar:"
   ]
  },
  {
   "cell_type": "code",
   "execution_count": 6,
   "id": "ecd1eb3b",
   "metadata": {},
   "outputs": [
    {
     "data": {
      "text/plain": [
       "0"
      ]
     },
     "execution_count": 6,
     "metadata": {},
     "output_type": "execute_result"
    }
   ],
   "source": [
    "from PyQt5.QtWidgets import QVBoxLayout\n",
    "\n",
    "class VentanaPrincipal(QMainWindow):\n",
    "    def __init__(self):\n",
    "        super().__init__()\n",
    "\n",
    "        self.setWindowTitle(\"WebScrapingDALP\")\n",
    "\n",
    "        # Creamos un widget central y la platilla layout\n",
    "        central = QWidget()\n",
    "        layout = QVBoxLayout()\n",
    "\n",
    "        # Label arriba\n",
    "        label = QLabel(\"Hello World\")\n",
    "        label.setAlignment(Qt.AlignCenter)  # centrar el texto\n",
    "        # Se añaden uno debajo del otro en orden porque QV es vertical, existe QHBoxLayout que es horizontal\n",
    "        layout.addWidget(label) \n",
    "\n",
    "        # Botón debajo\n",
    "        button = QPushButton(\"Click Aqui!\")\n",
    "        layout.addWidget(button)\n",
    "\n",
    "        # Aplicamos la plantilla del layout al widget central y lo centramos\n",
    "        central.setLayout(layout)\n",
    "        self.setCentralWidget(central)\n",
    "\n",
    "\n",
    "window = VentanaPrincipal()\n",
    "window.show()\n",
    "\n",
    "app.exec()"
   ]
  },
  {
   "cell_type": "markdown",
   "id": "74318666",
   "metadata": {},
   "source": [
    "Vamos a mirar más elementos, para el scraper seguramente nos venga bien una lista para seleccionar elementos.\n",
    "\n",
    "Hay varios tipos de listas, vamos a mirar que nos viene bien:"
   ]
  },
  {
   "cell_type": "code",
   "execution_count": null,
   "id": "9c7f7ea4",
   "metadata": {},
   "outputs": [
    {
     "data": {
      "text/plain": [
       "0"
      ]
     },
     "execution_count": 7,
     "metadata": {},
     "output_type": "execute_result"
    }
   ],
   "source": [
    "from PyQt5.QtWidgets import QListWidget\n",
    "\n",
    "# Creamos el widget de lista\n",
    "lista = QListWidget()\n",
    "\n",
    "# Le añadimos los objetos con una lista nuestra de python\n",
    "lista.addItems([\"Producto 1\", \"Producto 2\", \"Producto 3\"])\n",
    "\n",
    "# Mostrar porque por defecto son ocultos\n",
    "lista.show()\n",
    "\n",
    "app.exec()"
   ]
  },
  {
   "cell_type": "code",
   "execution_count": null,
   "id": "41b01d09",
   "metadata": {},
   "outputs": [
    {
     "data": {
      "text/plain": [
       "0"
      ]
     },
     "execution_count": 8,
     "metadata": {},
     "output_type": "execute_result"
    }
   ],
   "source": [
    "from PyQt5.QtWidgets import QComboBox\n",
    "\n",
    "# Creamos el widget de combobox y lo mismo que la lista\n",
    "combobox = QComboBox()\n",
    "\n",
    "combobox.addItems([\"Producto 1\", \"Producto 2\", \"Producto 3\"])\n",
    "combobox.show()\n",
    "\n",
    "app.exec()"
   ]
  },
  {
   "cell_type": "markdown",
   "id": "6c91cb82",
   "metadata": {},
   "source": [
    "La combobox me gusta más, si tenemos 20 artículos no poder plegar el selector va a ser un problema.\n",
    "\n",
    "En webs es común poder editar la combobox y que mientras escribas te vaya filtrando opciones. He encontrado una adaptación en StackOverflow que hace exactamente eso:"
   ]
  },
  {
   "cell_type": "code",
   "execution_count": 9,
   "id": "e1878d8c",
   "metadata": {},
   "outputs": [
    {
     "data": {
      "text/plain": [
       "0"
      ]
     },
     "execution_count": 9,
     "metadata": {},
     "output_type": "execute_result"
    }
   ],
   "source": [
    "from PyQt5.QtWidgets import QCompleter\n",
    "from itertools import product # Este es solo para generar la lista de palabras, viene con python\n",
    "\n",
    "# Crea la lista interpolando abc y sale [aaaa,aaab,aaac,aaba,...]\n",
    "wordlist = [''.join(combo) for combo in product('abc', repeat = 4)]\n",
    "\n",
    "# Crea y agrega la lista a un combobox\n",
    "combo = QComboBox()\n",
    "combo.addItems(wordlist)\n",
    "\n",
    "# Permite editar el campo de la combobox y el NoInsert hace que no se autorellene\n",
    "# de golpe la primera opcion que pille para poder seguir escribiendo\n",
    "combo.setEditable(True)\n",
    "combo.setInsertPolicy(QComboBox.NoInsert)\n",
    "\n",
    "# Hay un atributo de como completar la combobox, con PopupCompletion va marcando las sugerencias debajo\n",
    "combo.completer().setCompletionMode(QCompleter.PopupCompletion)\n",
    "\n",
    "combo.show()\n",
    "app.exec()"
   ]
  },
  {
   "cell_type": "markdown",
   "id": "8b340f46",
   "metadata": {},
   "source": [
    "Perfecto, vamos a hacer un mockup de la app, añadiendo la combobox a la derecha del label.\n",
    "\n",
    "Para esto hay que anidar layouts verticales y horizontales:"
   ]
  },
  {
   "cell_type": "code",
   "execution_count": 12,
   "id": "6114dd9e",
   "metadata": {},
   "outputs": [
    {
     "data": {
      "text/plain": [
       "0"
      ]
     },
     "execution_count": 12,
     "metadata": {},
     "output_type": "execute_result"
    }
   ],
   "source": [
    "from PyQt5.QtWidgets import QHBoxLayout\n",
    "\n",
    "class VentanaPrincipal(QMainWindow):\n",
    "    def __init__(self):\n",
    "        super().__init__()\n",
    "        self.setWindowTitle(\"WebScrapingDALP\")\n",
    "\n",
    "        central = QWidget()\n",
    "        main_layout = QVBoxLayout()  # layout vertical general\n",
    "\n",
    "        # Fila con label y combobox\n",
    "        fila = QHBoxLayout()\n",
    "        label = QLabel(\"Seleccione producto:\")\n",
    "        combo = QComboBox()\n",
    "        combo.addItems([\"RTX 3060\", \"Radeon 6900\", \"RTX 3080\"])\n",
    "        combo.setEditable(True)\n",
    "        combo.setInsertPolicy(QComboBox.NoInsert)\n",
    "        combo.completer().setCompletionMode(QCompleter.PopupCompletion)\n",
    "\n",
    "        fila.addWidget(label)\n",
    "        fila.addWidget(combo)\n",
    "        main_layout.addLayout(fila)  # agregamos la fila al layout vertical\n",
    "\n",
    "        # Botón abajo\n",
    "        boton = QPushButton(\"Buscar\")\n",
    "        main_layout.addWidget(boton)\n",
    "\n",
    "        central.setLayout(main_layout)\n",
    "        self.setCentralWidget(central)\n",
    "\n",
    "ventana = VentanaPrincipal()\n",
    "ventana.show()\n",
    "app.exec()"
   ]
  },
  {
   "attachments": {
    "image.png": {
     "image/png": "[encoded data removed]"
    }
   },
   "cell_type": "markdown",
   "id": "be919b4d",
   "metadata": {},
   "source": [
    "Solo para tres widgets ya hay bastante lio, esto sería la representación visual de lo que tenemos hasta ahora:\n",
    "![image.png](attachment:image.png)\n",
    "\n",
    "Vamos a intentar atar una acción al botón:"
   ]
  },
  {
   "cell_type": "code",
   "execution_count": null,
   "id": "1313b580",
   "metadata": {},
   "outputs": [
    {
     "data": {
      "text/plain": [
       "0"
      ]
     },
     "execution_count": 14,
     "metadata": {},
     "output_type": "execute_result"
    }
   ],
   "source": [
    "from PyQt5.QtWidgets import QMessageBox\n",
    "\n",
    "class VentanaPrincipal(QMainWindow):\n",
    "    def __init__(self):\n",
    "        super().__init__()\n",
    "        self.setWindowTitle(\"WebScrapingDALP\")\n",
    "\n",
    "        central = QWidget()\n",
    "        main_layout = QVBoxLayout()\n",
    "\n",
    "        fila = QHBoxLayout()\n",
    "        label = QLabel(\"Seleccione producto:\")\n",
    "        combo = QComboBox()\n",
    "        combo.addItems([\"RTX 3060\", \"Radeon 6900\", \"RTX 3080\"])\n",
    "        combo.setEditable(True)\n",
    "        combo.setInsertPolicy(QComboBox.NoInsert)\n",
    "        combo.completer().setCompletionMode(QCompleter.PopupCompletion)\n",
    "\n",
    "        fila.addWidget(label)\n",
    "        fila.addWidget(combo)\n",
    "        main_layout.addLayout(fila)\n",
    "\n",
    "        boton = QPushButton(\"Buscar\")\n",
    "        # Le añadimos el evento \"cuando se hace click conecta esto ->\" y le creamos la funcion más abajo\n",
    "        # Honestamente no se porque hay que pasarla como una funcion lambda, si no se ejecuta al instante y todo peta\n",
    "        boton.clicked.connect(lambda: self.mostrar_popup(combo))\n",
    "        main_layout.addWidget(boton)\n",
    "\n",
    "        central.setLayout(main_layout)\n",
    "        self.setCentralWidget(central)\n",
    "    \n",
    "    def mostrar_popup(self, combo):\n",
    "        producto = combo.currentText()  # lee lo seleccionado en el combobox\n",
    "        msg = QMessageBox()\n",
    "        msg.setWindowTitle(\"Producto Seleccionado\")\n",
    "        msg.setText(f\"Producto: {producto}\")\n",
    "        msg.exec()\n",
    "\n",
    "ventana = VentanaPrincipal()\n",
    "ventana.show()\n",
    "app.exec()"
   ]
  },
  {
   "cell_type": "markdown",
   "id": "32383276",
   "metadata": {},
   "source": [
    "Perfecto, ahora la idea es meter el gráfico de MatplotLib dentro de ese mensaje, por ejemplo.\n",
    "\n",
    "Matplotlib y pyQt5 tienen un backend comun para ello:"
   ]
  },
  {
   "cell_type": "code",
   "execution_count": null,
   "id": "5d7809a4",
   "metadata": {},
   "outputs": [
    {
     "data": {
      "text/plain": [
       "0"
      ]
     },
     "execution_count": 16,
     "metadata": {},
     "output_type": "execute_result"
    },
    {
     "data": {
      "image/png": "[encoded data removed]",
      "text/plain": [
       "<Figure size 640x480 with 1 Axes>"
      ]
     },
     "metadata": {},
     "output_type": "display_data"
    }
   ],
   "source": [
    "from matplotlib.backends.backend_qt5agg import FigureCanvasQTAgg as FigureCanvas\n",
    "import matplotlib.pyplot as plt\n",
    "\n",
    "class VentanaGrafico(QMainWindow):\n",
    "    def __init__(self):\n",
    "        super().__init__()\n",
    "        self.setWindowTitle(\"Gráfico en PyQt\")\n",
    "\n",
    "        central = QWidget()\n",
    "        layout = QVBoxLayout()\n",
    "\n",
    "        # Crear figura y canvas de pyplot\n",
    "        fig, ax = plt.subplots()\n",
    "        ax.plot([1,2,3,4], [10,20,15,25])  # ejemplo de datos\n",
    "        canvas = FigureCanvas(fig)\n",
    "\n",
    "        layout.addWidget(canvas)\n",
    "        central.setLayout(layout)\n",
    "        self.setCentralWidget(central)\n",
    "\n",
    "ventana = VentanaGrafico()\n",
    "ventana.show()\n",
    "app.exec()"
   ]
  },
  {
   "cell_type": "markdown",
   "id": "f93f8d39",
   "metadata": {},
   "source": [
    "Parece que también devuelve el gráfico por consola tras la ejecución pero eso es un error para el futuro :)\n",
    "\n",
    "Ahora sabemos que podemos meter el FigureCanvas como widget central en el dialogo de msg"
   ]
  }
 ],
 "metadata": {
  "kernelspec": {
   "display_name": ".venv",
   "language": "python",
   "name": "python3"
  },
  "language_info": {
   "codemirror_mode": {
    "name": "ipython",
    "version": 3
   },
   "file_extension": ".py",
   "mimetype": "text/x-python",
   "name": "python",
   "nbconvert_exporter": "python",
   "pygments_lexer": "ipython3",
   "version": "3.13.3"
  }
 },
 "nbformat": 4,
 "nbformat_minor": 5
}
