{
 "cells": [
  {
   "cell_type": "markdown",
   "id": "f7a2933f",
   "metadata": {},
   "source": [
    "# 1) Ordena el desastre\n",
    "\n",
    "**Objetivo:**  \n",
    "Detectar y corregir problemas de estilo (_nombres_, _espacios_, _sangría_, _docstring breve_).\n",
    "\n",
    "**Enunciado:**  \n",
    "Corrige el siguiente script para que cumpla con [PEP 8](https://peps.python.org/pep-0008/):  \n",
    "- Usa nombres descriptivos.  \n",
    "- Aplica 4 espacios de sangría donde sea necesario.  \n",
    "- Añade espacios alrededor de operadores y comas.  \n",
    "- Agrega un docstring breve en la función.\n",
    "\n",
    "**Código inicial:**\n",
    "\n",
    "```python\n",
    "def Suma(a,b):return a+b\n",
    "X=10\n",
    "Y=20\n",
    "print(Suma(X,Y))"
   ]
  },
  {
   "cell_type": "code",
   "execution_count": 1,
   "id": "b55742bd",
   "metadata": {},
   "outputs": [
    {
     "name": "stdout",
     "output_type": "stream",
     "text": [
      "30\n"
     ]
    }
   ],
   "source": [
    "def sumar(num1, num2):\n",
    "    \"\"\"Devuelve la suma de dos números\n",
    "\n",
    "    Args:\n",
    "        num1 (int): Primer número de la suma\n",
    "        num2 (int): Segundo número de la suma\n",
    "\n",
    "    Returns:\n",
    "        int: La suma de num1 con num2\n",
    "\n",
    "    Example:\n",
    "    >>> suma(3 + 4) = 7\n",
    "    \"\"\"\n",
    "    return num1 + num2\n",
    "\n",
    "\n",
    "valor1 = 10\n",
    "valor2 = 20\n",
    "\n",
    "resultado = sumar(valor1, valor2)  # X e Y eran constantes, podrían no serlo\n",
    "print(resultado)"
   ]
  },
  {
   "cell_type": "markdown",
   "id": "cae01a54",
   "metadata": {},
   "source": [
    "## 2) Ponle nombre\n",
    "\n",
    "**Objetivo:**  \n",
    "Usar nombres comprensibles para variables y funciones.\n",
    "\n",
    "**Enunciado:**  \n",
    "Cambia los nombres crípticos por otros claros y agrega un comentario útil.\n",
    "\n",
    "**Código inicial:**\n",
    "\n",
    "```python\n",
    "a = 3.1416\n",
    "b = 5\n",
    "c = a * b ** 2\n",
    "print(c)"
   ]
  },
  {
   "cell_type": "code",
   "execution_count": 2,
   "id": "1ba5054a",
   "metadata": {},
   "outputs": [
    {
     "name": "stdout",
     "output_type": "stream",
     "text": [
      "78.53999999999999\n"
     ]
    }
   ],
   "source": [
    "PI = 3.1416\n",
    "radio = 5\n",
    "\n",
    "area = PI * radio**2\n",
    "print(area)"
   ]
  },
  {
   "cell_type": "markdown",
   "id": "616591f2",
   "metadata": {},
   "source": [
    "## 3) Espacios que importan\n",
    "\n",
    "**Objetivo:**  \n",
    "Aplicar espacios alrededor de operadores y después de comas.\n",
    "\n",
    "**Enunciado:**  \n",
    "Reescribe usando espacios correctos y una función con docstring.\n",
    "\n",
    "**Código inicial:**\n",
    "\n",
    "```python\n",
    "precio_final=precio*0.9\n",
    "lista=[1,2,3,4]\n",
    "def suma(a,b):return a+b\n"
   ]
  },
  {
   "cell_type": "code",
   "execution_count": 3,
   "id": "6a281345",
   "metadata": {},
   "outputs": [],
   "source": [
    "precio = 10\n",
    "\n",
    "# Aplica un descuento del 10%\n",
    "precio_final = precio * 0.9\n",
    "\n",
    "lista = [1, 2, 3, 4]"
   ]
  },
  {
   "cell_type": "markdown",
   "id": "7188520c",
   "metadata": {},
   "source": [
    "## 4) Comenta tu código\n",
    "\n",
    "**Objetivo:**  \n",
    "Añadir comentarios breves y útiles (explican el porqué, no solo el qué).\n",
    "\n",
    "**Enunciado:**  \n",
    "Añade comentarios útiles y docstring a la función.\n",
    "\n",
    "**Código inicial:**\n",
    "\n",
    "```python\n",
    "def total_compra(cantidad, precio):\n",
    "    return cantidad * precio\n",
    "\n",
    "t = total_compra(3, 12.5)\n",
    "print(t)"
   ]
  },
  {
   "cell_type": "code",
   "execution_count": 4,
   "id": "aafcd12c",
   "metadata": {},
   "outputs": [
    {
     "name": "stdout",
     "output_type": "stream",
     "text": [
      "37.5\n"
     ]
    }
   ],
   "source": [
    "def calcularTotalCompra(cantidad, precio):\n",
    "    \"\"\"Calcula el importe total de la compra\n",
    "\n",
    "    Args:\n",
    "        cantidad (int): Cantidad de artículos de un mismo importe\n",
    "        precio (float): Precio por unidad de artículo\n",
    "\n",
    "    Returns:\n",
    "        float: Multiplicación del precio unitario\n",
    "            por cantidad de artículos\n",
    "    \"\"\"\n",
    "    return cantidad * precio\n",
    "\n",
    "\n",
    "total = calcularTotalCompra(3, 12.5)\n",
    "print(total)"
   ]
  },
  {
   "cell_type": "markdown",
   "id": "b3253018",
   "metadata": {},
   "source": [
    "## 5) La longitud importa\n",
    "\n",
    "**Objetivo:**  \n",
    "Dividir líneas largas y mejorar legibilidad.\n",
    "\n",
    "**Enunciado:**  \n",
    "Divide las líneas, usa paréntesis y nombra bien las variables.\n",
    "\n",
    "**Código inicial:**\n",
    "\n",
    "```python\n",
    "mensaje = \"Este es un mensaje muy largo que debería dividirse en varias líneas para cumplir con PEP8 y que sea más fácil de leer por cualquiera\"\n",
    "resultado = calcular_precio_final(precio_base,impuestos,descuento,comision_extra, coste_envio, recargo_urgente)"
   ]
  },
  {
   "cell_type": "code",
   "execution_count": null,
   "id": "5e9a0dc2",
   "metadata": {},
   "outputs": [
    {
     "ename": "NameError",
     "evalue": "name 'calcular_precio_final' is not defined",
     "output_type": "error",
     "traceback": [
      "\u001b[31m---------------------------------------------------------------------------\u001b[39m",
      "\u001b[31mNameError\u001b[39m                                 Traceback (most recent call last)",
      "\u001b[36mCell\u001b[39m\u001b[36m \u001b[39m\u001b[32mIn[5]\u001b[39m\u001b[32m, line 8\u001b[39m\n\u001b[32m      1\u001b[39m mensaje = (\n\u001b[32m      2\u001b[39m     \u001b[33m\"\u001b[39m\u001b[33mEste es un mensaje muy \u001b[39m\u001b[33m\"\u001b[39m\n\u001b[32m      3\u001b[39m     \u001b[33m\"\u001b[39m\u001b[33mlargo que debería dividirse en varias \u001b[39m\u001b[33m\"\u001b[39m\n\u001b[32m      4\u001b[39m     \u001b[33m\"\u001b[39m\u001b[33mlíneas para cumplir con PEP8 y que sea \u001b[39m\u001b[33m\"\u001b[39m\n\u001b[32m      5\u001b[39m     \u001b[33m\"\u001b[39m\u001b[33mmás fácil de leer por cualquiera\u001b[39m\u001b[33m\"\u001b[39m\n\u001b[32m      6\u001b[39m )\n\u001b[32m----> \u001b[39m\u001b[32m8\u001b[39m resultado = \u001b[43mcalcular_precio_final\u001b[49m( \u001b[38;5;66;03m# type: ignore\u001b[39;00m\n\u001b[32m      9\u001b[39m     precio_base, impuestos, descuento,  \u001b[38;5;66;03m# type: ignore\u001b[39;00m\n\u001b[32m     10\u001b[39m     comision_extra, coste_envio, recargo_urgente \u001b[38;5;66;03m# type: ignore\u001b[39;00m\n\u001b[32m     11\u001b[39m     )\n",
      "\u001b[31mNameError\u001b[39m: name 'calcular_precio_final' is not defined"
     ]
    }
   ],
   "source": [
    "mensaje = (\n",
    "    \"Este es un mensaje muy \"\n",
    "    \"largo que debería dividirse en varias \"\n",
    "    \"líneas para cumplir con PEP8 y que sea \"\n",
    "    \"más fácil de leer por cualquiera\"\n",
    ")\n",
    "\n",
    "resultado = calcular_precio_final( # type: ignore\n",
    "    precio_base, impuestos, descuento,  # type: ignore\n",
    "    comision_extra, coste_envio, recargo_urgente # type: ignore\n",
    "    )"
   ]
  },
  {
   "cell_type": "markdown",
   "id": "f9203437",
   "metadata": {},
   "source": [
    "## 6) Autoformateo\n",
    "\n",
    "**Objetivo:**  \n",
    "Usar herramientas de formateo automático y revisar diferencias.\n",
    "\n",
    "**Enunciado:**  \n",
    "1) Copia este código en un archivo `formateo.py`.  \n",
    "2) Aplica formateo automático en VS Code (`Shift + Alt + F`) o con Black.  \n",
    "3) Compara antes y después.\n",
    "\n",
    "**Código inicial:**\n",
    "\n",
    "```python\n",
    "def convertir(celsius): \n",
    "   f=(celsius*9/5)+32;  return f\n",
    "valores=[0,10,20,30,40,100]\n",
    "for v in valores: print(convertir(v))"
   ]
  },
  {
   "cell_type": "code",
   "execution_count": 6,
   "id": "1c7efd5a",
   "metadata": {},
   "outputs": [
    {
     "name": "stdout",
     "output_type": "stream",
     "text": [
      "32.0\n",
      "50.0\n",
      "68.0\n",
      "86.0\n",
      "104.0\n",
      "212.0\n"
     ]
    }
   ],
   "source": [
    "def convertirCelsius(celsius):\n",
    "    f = (celsius * 9 / 5) + 32\n",
    "    return f\n",
    "\n",
    "\n",
    "valores = [0, 10, 20, 30, 40, 100]\n",
    "for v in valores:\n",
    "    print(convertirCelsius(v))"
   ]
  }
 ],
 "metadata": {
  "kernelspec": {
   "display_name": "dalp",
   "language": "python",
   "name": "python3"
  },
  "language_info": {
   "codemirror_mode": {
    "name": "ipython",
    "version": 3
   },
   "file_extension": ".py",
   "mimetype": "text/x-python",
   "name": "python",
   "nbconvert_exporter": "python",
   "pygments_lexer": "ipython3",
   "version": "3.13.5"
  }
 },
 "nbformat": 4,
 "nbformat_minor": 5
}
