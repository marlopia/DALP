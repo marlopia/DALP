{
 "cells": [
  {
   "cell_type": "markdown",
   "id": "07169d6c",
   "metadata": {},
   "source": [
    "# Testing paquete PeeWee\n",
    "\n",
    "En este cuaderno quiero probar las capacidades básicas de un sistema ORM (Object–Relational Mapping) en Python.\n",
    "\n",
    "La base de datos a utilizar va a ser SQLite por ser serverless y por tener integracion directa con peewee."
   ]
  },
  {
   "cell_type": "code",
   "execution_count": 2,
   "id": "64bf73e3",
   "metadata": {},
   "outputs": [],
   "source": [
    "from peewee import *\n",
    "\n",
    "db = SqliteDatabase('people.db')\n",
    "\n",
    "class Person(Model):\n",
    "    name = CharField()\n",
    "    birthday = DateField()\n",
    "\n",
    "    class Meta:\n",
    "        database = db"
   ]
  },
  {
   "cell_type": "markdown",
   "id": "cb067cf9",
   "metadata": {},
   "source": [
    "Creamos una clase persona con nombre y cumpleaños, declarando los atributos con objetos propios de peewee (CharField y DateField)\n",
    "\n",
    "La subclase Meta guarda metadatos y se pueden sobreescribir, en el snippet se sobreescribe la base de datos por ejemplo."
   ]
  },
  {
   "cell_type": "code",
   "execution_count": 3,
   "id": "503a51de",
   "metadata": {},
   "outputs": [],
   "source": [
    "class Pet(Model):\n",
    "    owner = ForeignKeyField(Person, backref='pets')\n",
    "    name = CharField()\n",
    "    animal_type = CharField()\n",
    "\n",
    "    class Meta:\n",
    "        database = db"
   ]
  },
  {
   "cell_type": "markdown",
   "id": "9f592476",
   "metadata": {},
   "source": [
    "En esta segunda clase creamos una relación entre clases (y tablas) mediante el objeto Peewee ForeignKeyField.\n",
    "\n",
    "En todo PeeWee los objetos representan diversas clases SQL:\n",
    "- Una clase del objeto Model es una tabla\n",
    "- Un objeto acabado en Field es una columna\n",
    "- La instancia de un objeto Model es una fila\n",
    "\n",
    "Con esa jerarquia es facil crear tablas a partir de Model con atributos Field para representar columnas y sus instancias son resultados de filas de una consulta"
   ]
  },
  {
   "cell_type": "markdown",
   "id": "15999950",
   "metadata": {},
   "source": [
    "Como el punto de un ORM es abstraer la capa de SQL de una base de datos relacional y transferirlo a objetos, PeeWee nos permite gestionar tablas de manera sencilla, como la creacion mediante sus metodos simplificados:"
   ]
  },
  {
   "cell_type": "code",
   "execution_count": 4,
   "id": "9025eb06",
   "metadata": {},
   "outputs": [],
   "source": [
    "db.connect()\n",
    "db.create_tables([Person, Pet])"
   ]
  },
  {
   "cell_type": "code",
   "execution_count": 5,
   "id": "a018b76b",
   "metadata": {},
   "outputs": [
    {
     "data": {
      "text/plain": [
       "1"
      ]
     },
     "execution_count": 5,
     "metadata": {},
     "output_type": "execute_result"
    }
   ],
   "source": [
    "from datetime import date\n",
    "uncle_bob = Person(name='Bob', birthday=date(1960, 1, 15))\n",
    "uncle_bob.save() # Devuelve el número de filas modificadas, sirve para cosas como if(Model.save()) dado a que 0 = false"
   ]
  },
  {
   "cell_type": "markdown",
   "id": "1eeff7a7",
   "metadata": {},
   "source": [
    "El método create aparte de crear una instancia del objeto tambien lo crea en la BBDD, para sincronizar memoria y BBDD"
   ]
  },
  {
   "cell_type": "code",
   "execution_count": 6,
   "id": "13612412",
   "metadata": {},
   "outputs": [
    {
     "name": "stdout",
     "output_type": "stream",
     "text": [
      "(1, 'Bob', '1960-01-15')\n",
      "(2, 'Grandma', '1935-03-01')\n",
      "(3, 'Herb', '1950-05-05')\n"
     ]
    }
   ],
   "source": [
    "grandma = Person.create(name='Grandma', birthday=date(1935, 3, 1))\n",
    "herb = Person.create(name='Herb', birthday=date(1950, 5, 5))\n",
    "\n",
    "cursor = db.cursor()\n",
    "\n",
    "cursor.execute(\"SELECT * FROM person\")\n",
    "\n",
    "rows = cursor.fetchall()\n",
    "\n",
    "for row in rows:\n",
    "    print(row)"
   ]
  },
  {
   "cell_type": "markdown",
   "id": "3761f215",
   "metadata": {},
   "source": [
    "En cambio, se puede desincronizar al modificar instancias y para sincronizar la fila hay que llamar a save:"
   ]
  },
  {
   "cell_type": "code",
   "execution_count": 7,
   "id": "5edebb52",
   "metadata": {},
   "outputs": [
    {
     "name": "stdout",
     "output_type": "stream",
     "text": [
      "(1, 'Bob', '1960-01-15')\n",
      "(2, 'Grandma L.', '1935-03-01')\n",
      "(3, 'Herb', '1950-05-05')\n"
     ]
    }
   ],
   "source": [
    "grandma.name = 'Grandma L.'\n",
    "grandma.save()\n",
    "\n",
    "cursor.execute(\"SELECT * FROM person\")\n",
    "\n",
    "rows = cursor.fetchall()\n",
    "\n",
    "for row in rows:\n",
    "    print(row)"
   ]
  },
  {
   "cell_type": "markdown",
   "id": "be05fb3a",
   "metadata": {},
   "source": [
    "Vamos a poblar las mascotas y generar relaciones entre tablas:"
   ]
  },
  {
   "cell_type": "code",
   "execution_count": 10,
   "id": "096f2cfb",
   "metadata": {},
   "outputs": [],
   "source": [
    "bob_kitty = Pet.create(owner=uncle_bob, name='Kitty', animal_type='cat')\n",
    "herb_fido = Pet.create(owner=herb, name='Fido', animal_type='dog')\n",
    "herb_mittens = Pet.create(owner=herb, name='Mittens', animal_type='cat')\n",
    "herb_mittens_jr = Pet.create(owner=herb, name='Mittens Jr', animal_type='cat')"
   ]
  },
  {
   "cell_type": "code",
   "execution_count": 11,
   "id": "e0c7187e",
   "metadata": {},
   "outputs": [
    {
     "data": {
      "text/plain": [
       "1"
      ]
     },
     "execution_count": 11,
     "metadata": {},
     "output_type": "execute_result"
    }
   ],
   "source": [
    "herb_fido.owner = uncle_bob\n",
    "herb_fido.save()"
   ]
  },
  {
   "cell_type": "markdown",
   "id": "b829abe4",
   "metadata": {},
   "source": [
    "PeeWee se encarga de manejar foreign keys por nosotros.\n",
    "\n",
    "Podemos borrar instancias y filas de la BBDD con el método delete_instance():"
   ]
  },
  {
   "cell_type": "code",
   "execution_count": 12,
   "id": "75bf82f8",
   "metadata": {},
   "outputs": [
    {
     "data": {
      "text/plain": [
       "1"
      ]
     },
     "execution_count": 12,
     "metadata": {},
     "output_type": "execute_result"
    }
   ],
   "source": [
    "herb_mittens.delete_instance()"
   ]
  },
  {
   "cell_type": "markdown",
   "id": "e6d4c07b",
   "metadata": {},
   "source": [
    "Usar SQL puro con el soporte SQLite (integrado con PeeWee por eso no requiere importar) no es necesario, se puede hacer CRUD sobre los modelos:"
   ]
  },
  {
   "cell_type": "code",
   "execution_count": 9,
   "id": "3ca0b94c",
   "metadata": {},
   "outputs": [
    {
     "name": "stdout",
     "output_type": "stream",
     "text": [
      "1\n",
      "2\n",
      "3\n"
     ]
    }
   ],
   "source": [
    "for person in Person.select():\n",
    "    print(person)"
   ]
  },
  {
   "cell_type": "markdown",
   "id": "5c932657",
   "metadata": {},
   "source": [
    "PeeWee tambien se encarga de unir consultas, pero para ello realiza consultas adicionales, este comportamiento se le llama N+1 y es mejor evitarlo usando joins:"
   ]
  },
  {
   "cell_type": "code",
   "execution_count": 13,
   "id": "8a345609",
   "metadata": {},
   "outputs": [
    {
     "name": "stdout",
     "output_type": "stream",
     "text": [
      "Kitty Bob\n",
      "Mittens Jr Herb\n"
     ]
    }
   ],
   "source": [
    "query = Pet.select().where(Pet.animal_type == 'cat')\n",
    "for pet in query:\n",
    "    print(pet.name, pet.owner.name)"
   ]
  },
  {
   "cell_type": "code",
   "execution_count": 14,
   "id": "7add5d76",
   "metadata": {},
   "outputs": [
    {
     "name": "stdout",
     "output_type": "stream",
     "text": [
      "Kitty Bob\n",
      "Mittens Jr Herb\n"
     ]
    }
   ],
   "source": [
    "query = (Pet\n",
    "         .select(Pet, Person)\n",
    "         .join(Person)\n",
    "         .where(Pet.animal_type == 'cat'))\n",
    "\n",
    "for pet in query:\n",
    "    print(pet.name, pet.owner.name)"
   ]
  },
  {
   "cell_type": "markdown",
   "id": "cdfc931e",
   "metadata": {},
   "source": [
    "También se pueden hacer instancias directamente sin guardar la query:"
   ]
  },
  {
   "cell_type": "code",
   "execution_count": 15,
   "id": "85607de7",
   "metadata": {},
   "outputs": [
    {
     "name": "stdout",
     "output_type": "stream",
     "text": [
      "Kitty\n",
      "Fido\n"
     ]
    }
   ],
   "source": [
    "for pet in Pet.select().join(Person).where(Person.name == 'Bob'):\n",
    "    print(pet.name)"
   ]
  },
  {
   "cell_type": "markdown",
   "id": "0c7f03f8",
   "metadata": {},
   "source": [
    "Y usando otros objetos como targets directamente:"
   ]
  },
  {
   "cell_type": "code",
   "execution_count": 16,
   "id": "29d9062b",
   "metadata": {},
   "outputs": [
    {
     "name": "stdout",
     "output_type": "stream",
     "text": [
      "Kitty\n",
      "Fido\n"
     ]
    }
   ],
   "source": [
    "for pet in Pet.select().where(Pet.owner == uncle_bob):\n",
    "    print(pet.name)"
   ]
  },
  {
   "cell_type": "markdown",
   "id": "beb48f11",
   "metadata": {},
   "source": [
    "Como podemos ver hay muchas formas flexibles de buscar en la BBDD fuera de las normas estrictas de SQL, pero podemos seguir usando los métodos SQL:"
   ]
  },
  {
   "cell_type": "code",
   "execution_count": 17,
   "id": "26c2ba38",
   "metadata": {},
   "outputs": [
    {
     "name": "stdout",
     "output_type": "stream",
     "text": [
      "Fido\n",
      "Kitty\n"
     ]
    }
   ],
   "source": [
    "for pet in Pet.select().where(Pet.owner == uncle_bob).order_by(Pet.name):\n",
    "    print(pet.name)"
   ]
  },
  {
   "cell_type": "code",
   "execution_count": 18,
   "id": "ab0bc7a2",
   "metadata": {},
   "outputs": [
    {
     "name": "stdout",
     "output_type": "stream",
     "text": [
      "Bob 1960-01-15\n",
      "Herb 1950-05-05\n",
      "Grandma L. 1935-03-01\n"
     ]
    }
   ],
   "source": [
    "for person in Person.select().order_by(Person.birthday.desc()):\n",
    "    print(person.name, person.birthday)"
   ]
  },
  {
   "cell_type": "markdown",
   "id": "42245dfe",
   "metadata": {},
   "source": [
    "Podemos también combinar filtros, pero con | y & en vez de OR y AND:"
   ]
  },
  {
   "cell_type": "code",
   "execution_count": 19,
   "id": "71e9aaee",
   "metadata": {},
   "outputs": [
    {
     "name": "stdout",
     "output_type": "stream",
     "text": [
      "Bob 1960-01-15\n",
      "Grandma L. 1935-03-01\n"
     ]
    }
   ],
   "source": [
    "d1940 = date(1940, 1, 1)\n",
    "d1960 = date(1960, 1, 1)\n",
    "query = (Person\n",
    "         .select()\n",
    "         .where((Person.birthday < d1940) | (Person.birthday > d1960)))\n",
    "\n",
    "for person in query:\n",
    "    print(person.name, person.birthday)"
   ]
  },
  {
   "cell_type": "code",
   "execution_count": 20,
   "id": "65c373ef",
   "metadata": {},
   "outputs": [
    {
     "name": "stdout",
     "output_type": "stream",
     "text": [
      "Grandma L. 1935-03-01\n"
     ]
    }
   ],
   "source": [
    "d1940 = date(1940, 1, 1)\n",
    "d1960 = date(1960, 1, 1)\n",
    "query = (Person\n",
    "         .select()\n",
    "         .where(((Person.birthday < d1940) | (Person.birthday > d1960)) & (Person.name != \"Bob\")))\n",
    "\n",
    "for person in query:\n",
    "    print(person.name, person.birthday)"
   ]
  },
  {
   "cell_type": "markdown",
   "id": "89115bae",
   "metadata": {},
   "source": [
    "Y obviamente tenemos los selectores in, between y like:"
   ]
  },
  {
   "cell_type": "code",
   "execution_count": null,
   "id": "084438a2",
   "metadata": {},
   "outputs": [
    {
     "name": "stdout",
     "output_type": "stream",
     "text": [
      "Bob 1960-01-15\n"
     ]
    }
   ],
   "source": [
    "query = (Person\n",
    "         .select()\n",
    "         .where(Person.name.in_([\"Bob\",\"Charlie\"]))) # \"in\" es una palabra reservada en Python, la funcion real es << pero tambien se puede usar \"in_\"\n",
    "\n",
    "for person in query:\n",
    "    print(person.name, person.birthday)"
   ]
  },
  {
   "cell_type": "code",
   "execution_count": null,
   "id": "e1d81179",
   "metadata": {},
   "outputs": [
    {
     "name": "stdout",
     "output_type": "stream",
     "text": [
      "Bob 1960-01-15\n"
     ]
    }
   ],
   "source": [
    "query = (Person\n",
    "         .select()\n",
    "         .where(Person.name << [\"Bob\",\"Charlie\"]))\n",
    "\n",
    "for person in query:\n",
    "    print(person.name, person.birthday)"
   ]
  },
  {
   "cell_type": "code",
   "execution_count": 21,
   "id": "b5a47060",
   "metadata": {},
   "outputs": [
    {
     "name": "stdout",
     "output_type": "stream",
     "text": [
      "Herb 1950-05-05\n"
     ]
    }
   ],
   "source": [
    "query = (Person\n",
    "         .select()\n",
    "         .where(Person.birthday.between(d1940, d1960)))\n",
    "\n",
    "for person in query:\n",
    "    print(person.name, person.birthday)"
   ]
  },
  {
   "cell_type": "code",
   "execution_count": 28,
   "id": "0a87ea76",
   "metadata": {},
   "outputs": [
    {
     "name": "stdout",
     "output_type": "stream",
     "text": [
      "Grandma L. 1935-03-01\n"
     ]
    }
   ],
   "source": [
    "# Like es más raro, depende de los métodos Python de Strings (contains, startswith, endswith, etc.) pero acepta ** y el string con %%\n",
    "query = (Person\n",
    "         .select()\n",
    "         .where(Person.name ** \"%G%\"))\n",
    "\n",
    "for person in query:\n",
    "    print(person.name, person.birthday)"
   ]
  },
  {
   "cell_type": "code",
   "execution_count": 29,
   "id": "39eb090f",
   "metadata": {},
   "outputs": [
    {
     "name": "stdout",
     "output_type": "stream",
     "text": [
      "Herb 1950-05-05\n"
     ]
    }
   ],
   "source": [
    "query = (Person\n",
    "         .select()\n",
    "         .where(Person.name.startswith(\"H\")))\n",
    "\n",
    "for person in query:\n",
    "    print(person.name, person.birthday)"
   ]
  },
  {
   "cell_type": "code",
   "execution_count": 30,
   "id": "c5f48f5b",
   "metadata": {},
   "outputs": [
    {
     "name": "stdout",
     "output_type": "stream",
     "text": [
      "Grandma L. 1935-03-01\n"
     ]
    }
   ],
   "source": [
    "query = (Person\n",
    "         .select()\n",
    "         .where(Person.name.endswith(\".\")))\n",
    "\n",
    "for person in query:\n",
    "    print(person.name, person.birthday)"
   ]
  },
  {
   "cell_type": "code",
   "execution_count": 31,
   "id": "4fa52f0d",
   "metadata": {},
   "outputs": [
    {
     "name": "stdout",
     "output_type": "stream",
     "text": [
      "Bob 1960-01-15\n"
     ]
    }
   ],
   "source": [
    "query = (Person\n",
    "         .select()\n",
    "         .where(Person.name.contains(\"ob\")))\n",
    "\n",
    "for person in query:\n",
    "    print(person.name, person.birthday)"
   ]
  },
  {
   "cell_type": "markdown",
   "id": "cb3bf43a",
   "metadata": {},
   "source": [
    "Y obviamente se pueden hacer aggregates:"
   ]
  },
  {
   "cell_type": "code",
   "execution_count": 34,
   "id": "d29f0757",
   "metadata": {},
   "outputs": [
    {
     "name": "stdout",
     "output_type": "stream",
     "text": [
      "Bob 2 pets\n",
      "Grandma L. 0 pets\n",
      "Herb 1 pets\n"
     ]
    }
   ],
   "source": [
    "query = (Person\n",
    "         .select(Person, fn.COUNT(Pet.id).alias('pet_count')) # fn.CONST usa muchas funciones nativas de SQL que no están en métodos\n",
    "         .join(Pet, JOIN.LEFT_OUTER)\n",
    "         .group_by(Person)\n",
    "         .order_by(Person.name))\n",
    "\n",
    "for person in query:\n",
    "    print(person.name, person.pet_count, 'pets')"
   ]
  },
  {
   "cell_type": "markdown",
   "id": "1c6fea1d",
   "metadata": {},
   "source": [
    "PeeWee tra el método prefetch que crea un diccionario de fondo para cachear relaciones entre tablas usando las backref de las foreign keys, esto ayuda a no crear más consultas al iterar en objetos relacionados:"
   ]
  },
  {
   "cell_type": "code",
   "execution_count": null,
   "id": "f5c3f6de",
   "metadata": {},
   "outputs": [
    {
     "name": "stdout",
     "output_type": "stream",
     "text": [
      "Bob\n",
      "  * Kitty\n",
      "  * Fido\n",
      "Grandma L.\n",
      "Herb\n",
      "  * Mittens Jr\n"
     ]
    }
   ],
   "source": [
    "query = Person.select().order_by(Person.name).prefetch(Pet)\n",
    "for person in query:\n",
    "    print(person.name)\n",
    "    for pet in person.pets: # El nuevo atributo es la backref definida en Pet.owner\n",
    "        print('  *', pet.name)"
   ]
  },
  {
   "cell_type": "code",
   "execution_count": 36,
   "id": "05a1220c",
   "metadata": {},
   "outputs": [
    {
     "data": {
      "text/plain": [
       "True"
      ]
     },
     "execution_count": 36,
     "metadata": {},
     "output_type": "execute_result"
    }
   ],
   "source": [
    "db.close()"
   ]
  },
  {
   "cell_type": "markdown",
   "id": "cdd1292e",
   "metadata": {},
   "source": [
    "Para acabar, se pueden portear bases existentes a clases con herramientas como la siguiente con el plugin pwiz:\n",
    "\n",
    "```bash\n",
    "python -m pwiz -e postgresql charles_blog > blog_models.py\n",
    "```"
   ]
  }
 ],
 "metadata": {
  "kernelspec": {
   "display_name": ".venv",
   "language": "python",
   "name": "python3"
  },
  "language_info": {
   "codemirror_mode": {
    "name": "ipython",
    "version": 3
   },
   "file_extension": ".py",
   "mimetype": "text/x-python",
   "name": "python",
   "nbconvert_exporter": "python",
   "pygments_lexer": "ipython3",
   "version": "3.13.3"
  }
 },
 "nbformat": 4,
 "nbformat_minor": 5
}
