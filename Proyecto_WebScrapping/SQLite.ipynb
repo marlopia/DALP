{
 "cells": [
  {
   "cell_type": "markdown",
   "id": "724d05ad",
   "metadata": {},
   "source": [
    "# Testing de SQLite\n",
    "Vamos a probar como gestiona python una base de sql como SQLite local\n",
    "\n",
    "Python al parecer viene preinstalado con sqlite3 y tiene manejo de bases de datos locales por defecto."
   ]
  },
  {
   "cell_type": "code",
   "execution_count": 1,
   "id": "70e566b5",
   "metadata": {},
   "outputs": [
    {
     "name": "stdout",
     "output_type": "stream",
     "text": [
      "(1, 'Tarjeta gráfica - MSI GeForce RTX 5060 VENTUS 2X OC, GDDR7, PCI Express 8GB', 'https://www.mediamarkt.es/es/product/_tarjeta-grafica-msi-geforce-rtx-5060-ventus-2x-oc-gddr7-pci-express-x16-50-155816180.html', 'https://www.pccomponentes.com/tarjeta-grafica-msi-geforce-rtx-5060-ventus-2x-oc-8gb-gddr7-reflex-2-rtx-ai-dlss4-blanca', 'https://www.pcbox.com/912-v537-002-tarjeta-grafica-msi-nvidia-geforce-rtx-5060-gddr7-8gb-hdmi-dport/p')\n"
     ]
    }
   ],
   "source": [
    "import sqlite3\n",
    "\n",
    "# Conectar a un archivo de base de datos (se crea si no existe). Genera un objeto conexion\n",
    "conn = sqlite3.connect(\"mi_db.sqlite\")\n",
    "\n",
    "# Genera un cursor, es como una cmd de la base de datos\n",
    "cur = conn.cursor()\n",
    "\n",
    "# Se pueden ejecutar instrucciones SQL estandar con el cursor\n",
    "cur.execute(\"\"\"\n",
    "CREATE TABLE IF NOT EXISTS catalogo (\n",
    "    id INTEGER PRIMARY KEY AUTOINCREMENT,\n",
    "    nombre_producto TEXT NOT NULL,\n",
    "    url_pccomp TEXT,\n",
    "    url_pcbox TEXT,\n",
    "    url_mediamarkt TEXT\n",
    ")\n",
    "\"\"\")\n",
    "\n",
    "# Permite usar sustitucion por tuplas. Cambia todo \"?\" por (a,b,c,...) en orden de aparicion. SELECT ? (a) -> SELECT a\n",
    "cur.execute(\"INSERT INTO catalogo (nombre_producto,url_pccomp,url_pcbox,url_mediamarkt) VALUES (?,?,?,?)\",\n",
    "    (\"Tarjeta gráfica - MSI GeForce RTX 5060 VENTUS 2X OC, GDDR7, PCI Express 8GB\",\n",
    "    \"https://www.mediamarkt.es/es/product/_tarjeta-grafica-msi-geforce-rtx-5060-ventus-2x-oc-gddr7-pci-express-x16-50-155816180.html\",\n",
    "    \"https://www.pccomponentes.com/tarjeta-grafica-msi-geforce-rtx-5060-ventus-2x-oc-8gb-gddr7-reflex-2-rtx-ai-dlss4-blanca\",\n",
    "    \"https://www.pcbox.com/912-v537-002-tarjeta-grafica-msi-nvidia-geforce-rtx-5060-gddr7-8gb-hdmi-dport/p\"))\n",
    "\n",
    "# Hay que confirmar la transaccion, no tiene autocommit por defecto\n",
    "conn.commit()\n",
    "\n",
    "# Si se ejecuta una consulta hay que sacar la respuesta de cursor.fetchall. Devuelve una lista[] de filas, iterar con un for simple\n",
    "cur.execute(\"SELECT * FROM catalogo\")\n",
    "for fila in cur.fetchall():\n",
    "    print(fila)\n",
    "\n",
    "# Acordarse de cerrar la conexión, sino se puede colgar el motor interno con muchas conexiones abiertas\n",
    "conn.close()"
   ]
  },
  {
   "cell_type": "markdown",
   "id": "d55c8da0",
   "metadata": {},
   "source": [
    "Con esto ya de por si se puede hacer de todo, pero el output va a ser horrible con más filas.\n",
    "\n",
    "Aunque sea matar moscas a cañonazos por lo potente que es, pandas integra consultas de sql y las deja bonitas:"
   ]
  },
  {
   "cell_type": "code",
   "execution_count": 2,
   "id": "dc7c9a32",
   "metadata": {},
   "outputs": [
    {
     "name": "stdout",
     "output_type": "stream",
     "text": [
      "   id                                                              nombre_producto                                                                                                                       url_pccomp                                                                                                               url_pcbox                                                                                         url_mediamarkt\n",
      "0   1  Tarjeta gráfica - MSI GeForce RTX 5060 VENTUS 2X OC, GDDR7, PCI Express 8GB  https://www.mediamarkt.es/es/product/_tarjeta-grafica-msi-geforce-rtx-5060-ventus-2x-oc-gddr7-pci-express-x16-50-155816180.html  https://www.pccomponentes.com/tarjeta-grafica-msi-geforce-rtx-5060-ventus-2x-oc-8gb-gddr7-reflex-2-rtx-ai-dlss4-blanca  https://www.pcbox.com/912-v537-002-tarjeta-grafica-msi-nvidia-geforce-rtx-5060-gddr7-8gb-hdmi-dport/p\n"
     ]
    }
   ],
   "source": [
    "import pandas as pd\n",
    "\n",
    "# Volvemos a crear la Conexion con el mismo nombre\n",
    "conn = sqlite3.connect(\"mi_db.sqlite\")\n",
    "\n",
    "# Creamos un dataframe de pandas, aparte de tener muchas herramientas de estadistica es que se imprime bonito\n",
    "# Pandas usa su propia funcion para hacer busquedas en una Conexion\n",
    "df = pd.read_sql_query(\"SELECT * FROM catalogo\", conn)\n",
    "\n",
    "# Se puede imprimir el objeto directmente pero asi se ve mejor\n",
    "print(df.to_string())\n",
    "conn.close()"
   ]
  },
  {
   "cell_type": "markdown",
   "id": "21bba5fa",
   "metadata": {},
   "source": [
    "Lo único que pandas no sirve para operaciones CRUD (escritura y borrado), para eso hay que seguir con sqlite3"
   ]
  },
  {
   "cell_type": "code",
   "execution_count": null,
   "id": "6d97a223",
   "metadata": {},
   "outputs": [
    {
     "name": "stdout",
     "output_type": "stream",
     "text": [
      "(1, '2025-10-03 17:58:49.174830', 105.6)\n",
      "(1, '2025-10-03 17:58:51.175968', 107.1)\n",
      "\n",
      "\n",
      "\n",
      "\n",
      "(1, '2025-10-03 17:58:49.174830', 105.6)\n"
     ]
    }
   ],
   "source": [
    "from datetime import datetime # Si, es datetime.datetime yo tampoco se porque\n",
    "import time\n",
    "\n",
    "conn = sqlite3.connect(\"mi_db.sqlite\")\n",
    "cur = conn.cursor()\n",
    "\n",
    "# Creamos una primary key compuesta\n",
    "cur.execute(\"\"\"\n",
    "CREATE TABLE IF NOT EXISTS historial (\n",
    "    id INTEGER NOT NULL,\n",
    "    timestamp DATE NOT NULL,\n",
    "    precio INTEGER,\n",
    "    PRIMARY KEY (id, timestamp)\n",
    ")\n",
    "\"\"\")\n",
    "\n",
    "# Vamos a crear nuestro timestamp, sello temporal del segundo donde se ejecuta algo\n",
    "timestamp = datetime.now().strftime(\"%Y-%m-%d %H:%M:%S.%f\") # formatea el timestamp a algo legible\n",
    "\n",
    "# Permite usar sustitucion por tuplas. Cambia todo \"?\" por (a,b,c,...) en orden de aparicion. SELECT ? (a) -> SELECT a\n",
    "cur.execute(\"INSERT INTO historial (id,timestamp,precio) VALUES (?,?,?)\", (1,timestamp,105.6))\n",
    "\n",
    " # Esperamos dos segundos para que haya diferencia\n",
    "time.sleep(2.0)\n",
    "\n",
    "timestamp = datetime.now().strftime(\"%Y-%m-%d %H:%M:%S.%f\")\n",
    "\n",
    "cur.execute(\"INSERT INTO historial (id,timestamp,precio) VALUES (?,?,?)\", (1,timestamp,107.1))\n",
    "\n",
    "# Hay que confirmar la transaccion, no tiene autocommit por defecto\n",
    "conn.commit()\n",
    "\n",
    "cur.execute(\"SELECT * FROM historial\")\n",
    "for fila in cur.fetchall():\n",
    "    print(fila)\n",
    "\n",
    "# Vamos a borrar ese último, intentar usar algo mejor que precio para borrar\n",
    "cur.execute(\"DELETE FROM historial WHERE precio = ?\", (107.1,)) # Coma al final para indicar tupla de elemento unitario\n",
    "\n",
    "conn.commit()\n",
    "\n",
    "print(\"\\n\\n\\n\") # Hacemos hueco en la terminal\n",
    "\n",
    "cur.execute(\"SELECT * FROM historial\")\n",
    "for fila in cur.fetchall():\n",
    "    print(fila)\n",
    "\n",
    "conn.close()"
   ]
  },
  {
   "cell_type": "markdown",
   "id": "b3d72f3d",
   "metadata": {},
   "source": [
    "Para testing muy útil instalarse alguna extensión como SQLite Viewer de Florian Klampfer para tener una GUI de la base de datos\n",
    "\n",
    "Por desgracia, SQL es necesario para que nuestro backend haga las instrucciones en python :("
   ]
  }
 ],
 "metadata": {
  "kernelspec": {
   "display_name": ".venv",
   "language": "python",
   "name": "python3"
  },
  "language_info": {
   "codemirror_mode": {
    "name": "ipython",
    "version": 3
   },
   "file_extension": ".py",
   "mimetype": "text/x-python",
   "name": "python",
   "nbconvert_exporter": "python",
   "pygments_lexer": "ipython3",
   "version": "3.13.3"
  }
 },
 "nbformat": 4,
 "nbformat_minor": 5
}
